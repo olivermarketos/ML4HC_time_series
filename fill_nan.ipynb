{
 "cells": [
  {
   "cell_type": "markdown",
   "metadata": {},
   "source": [
    "# Fill nan by forward filling + median or mean"
   ]
  },
  {
   "cell_type": "code",
   "execution_count": null,
   "metadata": {},
   "outputs": [],
   "source": [
    "import pandas as pd\n",
    "import matplotlib.pyplot as plt\n",
    "import numpy as np\n",
    "import pandas as pd\n",
    "from tqdm import tqdm\n",
    "import seaborn as sns\n",
    "import pyarrow as pa\n",
    "import pyarrow.parquet as pq\n"
   ]
  },
  {
   "cell_type": "code",
   "execution_count": 19,
   "metadata": {},
   "outputs": [],
   "source": [
    "# import parquet file \n",
    "df_a =pd.read_parquet('data/processed_raw_data_set-a_1.parquet', engine='pyarrow')\n",
    "\n",
    "df_b =pd.read_parquet('data/processed_raw_data_set-b_1.parquet', engine='pyarrow')\n",
    "\n",
    "df_c =pd.read_parquet('data/processed_raw_data_set-c_1.parquet', engine='pyarrow')\n",
    "\n",
    "drop_ICUType = True \n",
    "if drop_ICUType:\n",
    "    df_a = df_a.drop(columns=['ICUType'])\n",
    "    df_b = df_b.drop(columns=['ICUType'])\n",
    "    df_c = df_c.drop(columns=['ICUType'])\n",
    "\n"
   ]
  },
  {
   "cell_type": "code",
   "execution_count": 20,
   "metadata": {},
   "outputs": [
    {
     "data": {
      "text/plain": [
       "(37, 4)"
      ]
     },
     "execution_count": 20,
     "metadata": {},
     "output_type": "execute_result"
    }
   ],
   "source": [
    "static_variables = ['RecordID', 'Age', 'Gender', 'Height', 'ICUType', 'Weight']\n",
    "if 'ICUType' in df.columns:\n",
    "    static_variables.remove('ICUType')\n",
    "static_variables_we_want = ['Age', 'Gender', 'Height', 'Weight']\n",
    "all_variables = ['Weight', 'Age', 'TroponinI', 'DiasABP', 'MechVent', 'HCO3', 'Cholesterol', 'HCT', 'SaO2', 'WBC', 'SysABP', 'Urine', 'ICUType', 'Gender', 'ALP', 'Creatinine', 'K', 'AST', 'Glucose', 'RespRate', 'MAP', 'FiO2', 'BUN', 'Na', 'Bilirubin', 'TroponinT', 'PaCO2', 'Height', 'GCS', 'HR', 'pH', 'PaO2', 'Lactate', 'ALT', 'NISysABP', 'RecordID', 'Platelets', 'Temp', 'Mg', 'NIDiasABP', 'Albumin', 'NIMAP']\n",
    "dyn_variables = [x for x in all_variables if x not in static_variables]\n",
    "dyn_variables.append('Weight_VAR')\n",
    "len(dyn_variables), len(static_variables_we_want)"
   ]
  },
  {
   "cell_type": "markdown",
   "metadata": {},
   "source": [
    "## Compute value to add when no previous value from training set a "
   ]
  },
  {
   "cell_type": "code",
   "execution_count": 21,
   "metadata": {},
   "outputs": [],
   "source": [
    "# load \n",
    "means_a = df_a.mean()\n",
    "medians_a = df_a.median()\n"
   ]
  },
  {
   "cell_type": "markdown",
   "metadata": {},
   "source": [
    "## Handling missing data, forward filling and taking mean or median of training set a"
   ]
  },
  {
   "cell_type": "markdown",
   "metadata": {},
   "source": [
    "Forward filling.\n",
    "\n",
    "When there is no previous value => median or mean , can choose , but always from set a"
   ]
  },
  {
   "cell_type": "code",
   "execution_count": 22,
   "metadata": {},
   "outputs": [
    {
     "name": "stdout",
     "output_type": "stream",
     "text": [
      "filling nan of set a\n"
     ]
    },
    {
     "name": "stderr",
     "output_type": "stream",
     "text": [
      "100%|██████████| 4000/4000 [01:37<00:00, 41.00it/s]\n"
     ]
    },
    {
     "name": "stdout",
     "output_type": "stream",
     "text": [
      "filling nan of set b\n"
     ]
    },
    {
     "name": "stderr",
     "output_type": "stream",
     "text": [
      "100%|██████████| 4000/4000 [01:48<00:00, 36.89it/s]\n"
     ]
    },
    {
     "name": "stdout",
     "output_type": "stream",
     "text": [
      "filling nan of set c\n"
     ]
    },
    {
     "name": "stderr",
     "output_type": "stream",
     "text": [
      "100%|██████████| 4000/4000 [01:43<00:00, 38.72it/s]\n"
     ]
    }
   ],
   "source": [
    "print('filling nan of set a')\n",
    "for r_id in tqdm(df_a.RecordID.unique()):\n",
    "    r_id_df = df_a[df_a.RecordID == r_id]\n",
    "    r_id_df = r_id_df.ffill(axis=0)\n",
    "    #  choose here\n",
    "    r_id_df = r_id_df.fillna(medians_a) # or means_a\n",
    "\n",
    "    df_a.loc[df_a['RecordID'] == r_id] = r_id_df\n",
    "\n",
    "\n",
    "df_a.to_parquet('data/set-a_no_nan.parquet', engine='pyarrow')\n",
    "    \n",
    "print('filling nan of set b')\n",
    "for r_id in tqdm(df_b.RecordID.unique()):\n",
    "    r_id_df = df_b[df_b.RecordID == r_id]\n",
    "    r_id_df = r_id_df.ffill(axis=0)\n",
    "    #  choose here\n",
    "    r_id_df = r_id_df.fillna(medians_a)\n",
    "\n",
    "    df_b.loc[df_b['RecordID'] == r_id] = r_id_df\n",
    "\n",
    "df_b.to_parquet('data/set-b_no_nan.parquet', engine='pyarrow')\n",
    "\n",
    "print('filling nan of set c')\n",
    "for r_id in tqdm(df_c.RecordID.unique()):\n",
    "    r_id_df = df_c[df_c.RecordID == r_id]\n",
    "    r_id_df = r_id_df.ffill(axis=0)\n",
    "    #  choose here\n",
    "    r_id_df = r_id_df.fillna(medians_a)\n",
    "\n",
    "    df_c.loc[df_c['RecordID'] == r_id] = r_id_df\n",
    "\n",
    "df_c.to_parquet('data/set-c_no_nan.parquet', engine='pyarrow')\n"
   ]
  },
  {
   "cell_type": "code",
   "execution_count": null,
   "metadata": {},
   "outputs": [],
   "source": []
  },
  {
   "cell_type": "markdown",
   "metadata": {},
   "source": []
  }
 ],
 "metadata": {
  "kernelspec": {
   "display_name": "Python 3",
   "language": "python",
   "name": "python3"
  },
  "language_info": {
   "codemirror_mode": {
    "name": "ipython",
    "version": 3
   },
   "file_extension": ".py",
   "mimetype": "text/x-python",
   "name": "python",
   "nbconvert_exporter": "python",
   "pygments_lexer": "ipython3",
   "version": "3.11.3"
  }
 },
 "nbformat": 4,
 "nbformat_minor": 2
}
