{
 "cells": [
  {
   "cell_type": "code",
   "execution_count": 7,
   "metadata": {},
   "outputs": [],
   "source": [
    "import pandas as pd\n",
    "import numpy as np"
   ]
  },
  {
   "cell_type": "code",
   "execution_count": 8,
   "metadata": {},
   "outputs": [],
   "source": [
    "data = \"data/\"\n",
    "set_a =  \"data/set-a/142640.txt\"\n",
    "set_b = data + \"set_b/\"\n",
    "# set_c = data + \"set_c/\"\n",
    "# Load the data\n",
    "df = pd.read_csv(set_a, sep=\",\")"
   ]
  },
  {
   "cell_type": "code",
   "execution_count": 10,
   "metadata": {},
   "outputs": [
    {
     "name": "stdout",
     "output_type": "stream",
     "text": [
      "    Time Parameter     Value\n",
      "0  00:00  RecordID  142640.0\n",
      "1  00:00       Age      65.0\n",
      "2  00:00    Gender       1.0\n",
      "3  00:00    Height      -1.0\n",
      "4  00:00   ICUType       3.0\n"
     ]
    },
    {
     "data": {
      "application/vnd.microsoft.datawrangler.viewer.v0+json": {
       "columns": [
        {
         "name": "index",
         "rawType": "int64",
         "type": "integer"
        },
        {
         "name": "Time",
         "rawType": "object",
         "type": "string"
        },
        {
         "name": "Parameter",
         "rawType": "object",
         "type": "string"
        },
        {
         "name": "Value",
         "rawType": "float64",
         "type": "float"
        }
       ],
       "conversionMethod": "pd.DataFrame",
       "ref": "e584b14c-2454-4ee5-bb26-8e3c46359b3e",
       "rows": [
        [
         "0",
         "00:00",
         "RecordID",
         "142640.0"
        ],
        [
         "1",
         "00:00",
         "Age",
         "65.0"
        ],
        [
         "2",
         "00:00",
         "Gender",
         "1.0"
        ],
        [
         "3",
         "00:00",
         "Height",
         "-1.0"
        ],
        [
         "4",
         "00:00",
         "ICUType",
         "3.0"
        ],
        [
         "5",
         "00:00",
         "Weight",
         "105.1"
        ],
        [
         "6",
         "04:25",
         "GCS",
         "15.0"
        ],
        [
         "7",
         "04:25",
         "HR",
         "100.0"
        ],
        [
         "8",
         "04:25",
         "NIDiasABP",
         "57.0"
        ],
        [
         "9",
         "04:25",
         "NIMAP",
         "67.0"
        ],
        [
         "10",
         "04:25",
         "NISysABP",
         "103.0"
        ],
        [
         "11",
         "04:25",
         "RespRate",
         "18.0"
        ],
        [
         "12",
         "04:25",
         "Temp",
         "36.6"
        ],
        [
         "13",
         "04:25",
         "Weight",
         "105.1"
        ],
        [
         "14",
         "05:25",
         "HR",
         "74.0"
        ],
        [
         "15",
         "05:25",
         "NIDiasABP",
         "59.0"
        ],
        [
         "16",
         "05:25",
         "NIMAP",
         "66.0"
        ],
        [
         "17",
         "05:25",
         "NISysABP",
         "89.0"
        ],
        [
         "18",
         "05:25",
         "RespRate",
         "19.0"
        ],
        [
         "19",
         "05:25",
         "Weight",
         "105.1"
        ],
        [
         "20",
         "05:41",
         "ALP",
         "216.0"
        ],
        [
         "21",
         "05:41",
         "ALT",
         "122.0"
        ],
        [
         "22",
         "05:41",
         "AST",
         "60.0"
        ],
        [
         "23",
         "05:41",
         "BUN",
         "17.0"
        ],
        [
         "24",
         "05:41",
         "Creatinine",
         "0.9"
        ],
        [
         "25",
         "05:41",
         "Glucose",
         "184.0"
        ],
        [
         "26",
         "05:41",
         "HCO3",
         "25.0"
        ],
        [
         "27",
         "05:41",
         "HCT",
         "34.5"
        ],
        [
         "28",
         "05:41",
         "Mg",
         "1.6"
        ],
        [
         "29",
         "05:41",
         "Platelets",
         "91.0"
        ],
        [
         "30",
         "05:41",
         "K",
         "2.6"
        ],
        [
         "31",
         "05:41",
         "Na",
         "140.0"
        ],
        [
         "32",
         "05:41",
         "WBC",
         "5.7"
        ],
        [
         "33",
         "06:25",
         "HR",
         "79.0"
        ],
        [
         "34",
         "06:25",
         "NIDiasABP",
         "54.0"
        ],
        [
         "35",
         "06:25",
         "NIMAP",
         "65.0"
        ],
        [
         "36",
         "06:25",
         "NISysABP",
         "94.0"
        ],
        [
         "37",
         "06:25",
         "RespRate",
         "23.0"
        ],
        [
         "38",
         "06:25",
         "Weight",
         "105.1"
        ],
        [
         "39",
         "07:25",
         "HR",
         "80.0"
        ],
        [
         "40",
         "07:25",
         "NIDiasABP",
         "55.0"
        ],
        [
         "41",
         "07:25",
         "NIMAP",
         "64.0"
        ],
        [
         "42",
         "07:25",
         "NISysABP",
         "92.0"
        ],
        [
         "43",
         "07:25",
         "RespRate",
         "18.0"
        ],
        [
         "44",
         "07:25",
         "Weight",
         "105.1"
        ],
        [
         "45",
         "08:25",
         "HR",
         "78.0"
        ],
        [
         "46",
         "08:25",
         "NIDiasABP",
         "39.0"
        ],
        [
         "47",
         "08:25",
         "NIMAP",
         "47.0"
        ],
        [
         "48",
         "08:25",
         "NISysABP",
         "80.0"
        ],
        [
         "49",
         "08:25",
         "RespRate",
         "22.0"
        ]
       ],
       "shape": {
        "columns": 3,
        "rows": 364
       }
      },
      "text/html": [
       "<div>\n",
       "<style scoped>\n",
       "    .dataframe tbody tr th:only-of-type {\n",
       "        vertical-align: middle;\n",
       "    }\n",
       "\n",
       "    .dataframe tbody tr th {\n",
       "        vertical-align: top;\n",
       "    }\n",
       "\n",
       "    .dataframe thead th {\n",
       "        text-align: right;\n",
       "    }\n",
       "</style>\n",
       "<table border=\"1\" class=\"dataframe\">\n",
       "  <thead>\n",
       "    <tr style=\"text-align: right;\">\n",
       "      <th></th>\n",
       "      <th>Time</th>\n",
       "      <th>Parameter</th>\n",
       "      <th>Value</th>\n",
       "    </tr>\n",
       "  </thead>\n",
       "  <tbody>\n",
       "    <tr>\n",
       "      <th>0</th>\n",
       "      <td>00:00</td>\n",
       "      <td>RecordID</td>\n",
       "      <td>142640.0</td>\n",
       "    </tr>\n",
       "    <tr>\n",
       "      <th>1</th>\n",
       "      <td>00:00</td>\n",
       "      <td>Age</td>\n",
       "      <td>65.0</td>\n",
       "    </tr>\n",
       "    <tr>\n",
       "      <th>2</th>\n",
       "      <td>00:00</td>\n",
       "      <td>Gender</td>\n",
       "      <td>1.0</td>\n",
       "    </tr>\n",
       "    <tr>\n",
       "      <th>3</th>\n",
       "      <td>00:00</td>\n",
       "      <td>Height</td>\n",
       "      <td>-1.0</td>\n",
       "    </tr>\n",
       "    <tr>\n",
       "      <th>4</th>\n",
       "      <td>00:00</td>\n",
       "      <td>ICUType</td>\n",
       "      <td>3.0</td>\n",
       "    </tr>\n",
       "    <tr>\n",
       "      <th>...</th>\n",
       "      <td>...</td>\n",
       "      <td>...</td>\n",
       "      <td>...</td>\n",
       "    </tr>\n",
       "    <tr>\n",
       "      <th>359</th>\n",
       "      <td>47:25</td>\n",
       "      <td>NIDiasABP</td>\n",
       "      <td>58.0</td>\n",
       "    </tr>\n",
       "    <tr>\n",
       "      <th>360</th>\n",
       "      <td>47:25</td>\n",
       "      <td>NIMAP</td>\n",
       "      <td>71.0</td>\n",
       "    </tr>\n",
       "    <tr>\n",
       "      <th>361</th>\n",
       "      <td>47:25</td>\n",
       "      <td>NISysABP</td>\n",
       "      <td>107.0</td>\n",
       "    </tr>\n",
       "    <tr>\n",
       "      <th>362</th>\n",
       "      <td>47:25</td>\n",
       "      <td>RespRate</td>\n",
       "      <td>13.0</td>\n",
       "    </tr>\n",
       "    <tr>\n",
       "      <th>363</th>\n",
       "      <td>47:25</td>\n",
       "      <td>Weight</td>\n",
       "      <td>105.1</td>\n",
       "    </tr>\n",
       "  </tbody>\n",
       "</table>\n",
       "<p>364 rows × 3 columns</p>\n",
       "</div>"
      ],
      "text/plain": [
       "      Time  Parameter     Value\n",
       "0    00:00   RecordID  142640.0\n",
       "1    00:00        Age      65.0\n",
       "2    00:00     Gender       1.0\n",
       "3    00:00     Height      -1.0\n",
       "4    00:00    ICUType       3.0\n",
       "..     ...        ...       ...\n",
       "359  47:25  NIDiasABP      58.0\n",
       "360  47:25      NIMAP      71.0\n",
       "361  47:25   NISysABP     107.0\n",
       "362  47:25   RespRate      13.0\n",
       "363  47:25     Weight     105.1\n",
       "\n",
       "[364 rows x 3 columns]"
      ]
     },
     "execution_count": 10,
     "metadata": {},
     "output_type": "execute_result"
    }
   ],
   "source": [
    "print(df.head())\n",
    "df"
   ]
  }
 ],
 "metadata": {
  "kernelspec": {
   "display_name": "Python 3 (ipykernel)",
   "language": "python",
   "name": "python3"
  },
  "language_info": {
   "codemirror_mode": {
    "name": "ipython",
    "version": 3
   },
   "file_extension": ".py",
   "mimetype": "text/x-python",
   "name": "python",
   "nbconvert_exporter": "python",
   "pygments_lexer": "ipython3",
   "version": "3.11.11"
  }
 },
 "nbformat": 4,
 "nbformat_minor": 2
}
