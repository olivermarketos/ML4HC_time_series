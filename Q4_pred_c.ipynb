{
 "cells": [
  {
   "cell_type": "markdown",
   "id": "654c4072",
   "metadata": {},
   "source": [
    "# Getting prediction from llm"
   ]
  },
  {
   "cell_type": "code",
   "execution_count": 1,
   "id": "73a2de72-135a-4420-81e5-0711872dc5e9",
   "metadata": {},
   "outputs": [],
   "source": [
    "# deepseek-r1:1.5b"
   ]
  },
  {
   "cell_type": "code",
   "execution_count": 2,
   "id": "968a00b7-2ed0-4267-a3e3-95255bc9b35c",
   "metadata": {},
   "outputs": [],
   "source": [
    "import csv\n",
    "from ollama import chat\n",
    "from tqdm import tqdm\n",
    "import pandas as pd\n"
   ]
  },
  {
   "cell_type": "code",
   "execution_count": 4,
   "id": "b3669d0f-0a19-4a03-a31a-e27a4fb60510",
   "metadata": {},
   "outputs": [],
   "source": [
    "csv_file_path = 'data_4/summary_text_c.csv'\n",
    "saver_path = 'data_4/predictions_4_1_for_c_w_ctxt_more.csv'\n",
    "\n",
    "results = {}\n"
   ]
  },
  {
   "cell_type": "code",
   "execution_count": null,
   "id": "f32933d6-362d-4c83-9eaa-d31c0c530a33",
   "metadata": {},
   "outputs": [
    {
     "name": "stderr",
     "output_type": "stream",
     "text": [
      "Processing rows: 0it [00:00, ?it/s]"
     ]
    },
    {
     "name": "stdout",
     "output_type": "stream",
     "text": [
      "0\n"
     ]
    },
    {
     "name": "stderr",
     "output_type": "stream",
     "text": [
      "Processing rows: 19it [00:23,  1.23s/it]"
     ]
    }
   ],
   "source": [
    "\n",
    "with open(csv_file_path, newline='') as csvfile:\n",
    "    reader = csv.DictReader(csvfile)\n",
    "    for i, row in enumerate(tqdm(reader, desc=\"Processing rows\")):\n",
    "        # if i == 3: \n",
    "        #     break\n",
    "        if i %50 ==0:\n",
    "            print(i)\n",
    "        record_id = row['RecordID_first']\n",
    "        patient_summary = row['summary']\n",
    "\n",
    "\n",
    "        # messages for the model\n",
    "        \n",
    "        messages = [{\n",
    "            'role': 'user',\n",
    "            'content': f'''\n",
    "You are a clinical prediction model. Based on the patient's ICU data, output ONLY a score from 1 to 10 indicating the likelihood the patient will be discharged alive (1 = very unlikely, 10 = very likely).\n",
    "\n",
    "DO NOT explain your reasoning. DO NOT add any text or interpretation. ONLY reply with a number from 1 to 10.\n",
    "\n",
    "Here are example patients and outcomes:\n",
    "[\n",
    "mean GCS [Glasgow Coma Score (3-15)] 14.92. mean Urine [Urine output (mL)] 135.42. max GCS [Glasgow Coma Score (3-15)] 15.0. min BUN [Blood urea nitrogen (mg/dL)] 8.0. mean HCO3 [Serum bicarbonate (mmol/L)] 27.0. mean Temp [Temperature (Celsius)] 37.51. mean BUN [Blood urea nitrogen (mg/dL)] 10.5. first Age 54.0. std Platelets (cells/nL) 25.46. min WBC [White blood cell count (cells/nL)] 9.4. std Temp [Temperature (Celsius)] 0.76. skew GCS [Glasgow Coma Score (3-15)] -3.61. mean Na [Serum sodium (mEq/L)] 136.5. ===> Outcome :10\n",
    "mean GCS [Glasgow Coma Score (3-15)] 5.92. mean Urine [Urine output (mL)] 106.73. max GCS [Glasgow Coma Score (3-15)] 8.0. min BUN [Blood urea nitrogen (mg/dL)] 3.0. mean HCO3 [Serum bicarbonate (mmol/L)] 25.0. mean Temp [Temperature (Celsius)] 37.8. mean BUN [Blood urea nitrogen (mg/dL)] 4.67. first Age 44.0. min Lactate (mmol/L) 0.9. mean FiO2 [Fractional inspired O2(0-1)] 0.5. mean pH [Arterial pH (0-14)] 7.5. std Platelets (cells/nL) 21.08. min WBC [White blood cell count (cells/nL)] 3.7. mean SysABP [Invasive systolic arterial blood pressure (mmHg)] 126.5. std Temp [Temperature (Celsius)] 0.64. mean PaCO2 [partial pressure of arterial CO2(mmHg)] 35.5. min SysABP [Invasive systolic arterial blood pressure (mmHg)] 103.0. skew GCS [Glasgow Coma Score (3-15)] 0.88. mean Na [Serum sodium (mEq/L)] 138.33. min PaO2 [Partial pressure of arterial O2(mmHg)] 65.0. ===> Outcome :10\n",
    "mean GCS [Glasgow Coma Score (3-15)] 15.0. mean Urine [Urine output (mL)] 50.23. max GCS [Glasgow Coma Score (3-15)] 15.0. min BUN [Blood urea nitrogen (mg/dL)] 25.0. mean HCO3 [Serum bicarbonate (mmol/L)] 19.0. mean Temp [Temperature (Celsius)] 36.88. mean BUN [Blood urea nitrogen (mg/dL)] 35.0. first Age 88.0. std Platelets (cells/nL) 8.49. min WBC [White blood cell count (cells/nL)] 3.8. std Temp [Temperature (Celsius)] 0.47. skew GCS [Glasgow Coma Score (3-15)] 0.0. mean Na [Serum sodium (mEq/L)] 139.5. ===> Outcome :10\n",
    "mean GCS [Glasgow Coma Score (3-15)] 11.85. mean Urine [Urine output (mL)] 35.24. max GCS [Glasgow Coma Score (3-15)] 15.0. min BUN [Blood urea nitrogen (mg/dL)] 58.0. mean HCO3 [Serum bicarbonate (mmol/L)] 13.6. mean Temp [Temperature (Celsius)] 36.97. mean BUN [Blood urea nitrogen (mg/dL)] 64.6. first Age 78.0. min Lactate (mmol/L) 1.2. mean FiO2 [Fractional inspired O2(0-1)] 0.51. mean pH [Arterial pH (0-14)] 7.27. std Platelets (cells/nL) 5.51. min WBC [White blood cell count (cells/nL)] 16.1. mean SysABP [Invasive systolic arterial blood pressure (mmHg)] 127.58. std Temp [Temperature (Celsius)] 0.48. mean PaCO2 [partial pressure of arterial CO2(mmHg)] 30.53. min SysABP [Invasive systolic arterial blood pressure (mmHg)] 82.0. skew GCS [Glasgow Coma Score (3-15)] 0.03. mean Na [Serum sodium (mEq/L)] 139.6. min PaO2 [Partial pressure of arterial O2(mmHg)] 86.0. ===> Outcome :1\n",
    "mean GCS [Glasgow Coma Score (3-15)] 7.2. mean Urine [Urine output (mL)] 50.82. max GCS [Glasgow Coma Score (3-15)] 8.0. min BUN [Blood urea nitrogen (mg/dL)] 19.0. mean HCO3 [Serum bicarbonate (mmol/L)] 23.33. mean Temp [Temperature (Celsius)] 37.43. mean BUN [Blood urea nitrogen (mg/dL)] 23.67. first Age 80.0. mean FiO2 [Fractional inspired O2(0-1)] 0.49. mean pH [Arterial pH (0-14)] 7.48. std Platelets (cells/nL) 43.13. min WBC [White blood cell count (cells/nL)] 13.4. mean SysABP [Invasive systolic arterial blood pressure (mmHg)] 138.57. std Temp [Temperature (Celsius)] 1.37. mean PaCO2 [partial pressure of arterial CO2(mmHg)] 28.29. min SysABP [Invasive systolic arterial blood pressure (mmHg)] 74.0. skew GCS [Glasgow Coma Score (3-15)] 0.25. mean Na [Serum sodium (mEq/L)] 142.67. min PaO2 [Partial pressure of arterial O2(mmHg)] 126.0. ===> Outcome :1\n",
    "mean GCS [Glasgow Coma Score (3-15)] 15.0. mean Urine [Urine output (mL)] 60.0. max GCS [Glasgow Coma Score (3-15)] 15.0. min BUN [Blood urea nitrogen (mg/dL)] 29.0. mean HCO3 [Serum bicarbonate (mmol/L)] 28.0. mean Temp [Temperature (Celsius)] 37.03. mean BUN [Blood urea nitrogen (mg/dL)] 29.5. first Age 80.0. mean FiO2 [Fractional inspired O2(0-1)] 0.94. mean pH [Arterial pH (0-14)] 7.51. std Platelets (cells/nL) 14.14. min WBC [White blood cell count (cells/nL)] 12.6. std Temp [Temperature (Celsius)] 0.43. mean PaCO2 [partial pressure of arterial CO2(mmHg)] 37.0. skew GCS [Glasgow Coma Score (3-15)] 0.0. mean Na [Serum sodium (mEq/L)] 136.0. min PaO2 [Partial pressure of arterial O2(mmHg)] 61.0. ===> Outcome :1\n",
    "]\n",
    "\n",
    "Now predict for this patient, ONLY REPLY WITH A NUMBER FROM 1 TO 10 like this 'NUMBER':\n",
    "{patient_summary}\n",
    "'''\n",
    "        }]\n",
    "        # print(f\"Record ID: {record_id} - Prediction: \", end='')\n",
    "\n",
    "        stream = chat(model='llama3.2:3b', messages=messages, stream=True)\n",
    "        prediction = \"\"\n",
    "        for chunk in stream:\n",
    "            prediction += chunk['message']['content']\n",
    "\n",
    "        results[record_id] = prediction.strip()\n"
   ]
  },
  {
   "cell_type": "code",
   "execution_count": null,
   "id": "f68de44b-8175-4bf9-82c0-a48feeee2b81",
   "metadata": {},
   "outputs": [],
   "source": [
    "# results"
   ]
  },
  {
   "cell_type": "code",
   "execution_count": null,
   "id": "70491e0c-0b37-472a-bb5a-11d1c1648255",
   "metadata": {},
   "outputs": [],
   "source": [
    "\n",
    "df = pd.DataFrame(list(results.items()), columns=['RecordID', 'Prediction'])\n",
    "df.to_csv(saver_path, index=False)"
   ]
  }
 ],
 "metadata": {
  "kernelspec": {
   "display_name": "Python 3 (ipykernel)",
   "language": "python",
   "name": "python3"
  },
  "language_info": {
   "codemirror_mode": {
    "name": "ipython",
    "version": 3
   },
   "file_extension": ".py",
   "mimetype": "text/x-python",
   "name": "python",
   "nbconvert_exporter": "python",
   "pygments_lexer": "ipython3",
   "version": "3.12.3"
  }
 },
 "nbformat": 4,
 "nbformat_minor": 5
}
