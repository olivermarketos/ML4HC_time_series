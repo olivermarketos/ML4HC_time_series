{
 "cells": [
  {
   "cell_type": "code",
   "execution_count": 1,
   "metadata": {},
   "outputs": [],
   "source": [
    "import numpy as np\n",
    "import pandas as pd\n",
    "import torch\n",
    "import torch.nn as nn\n",
    "import torch.optim as optim\n",
    "from torch.utils.data import Dataset, DataLoader, WeightedRandomSampler\n",
    "import torch.optim as optim\n",
    "from sklearn.metrics import precision_recall_curve, roc_curve, f1_score, precision_score, recall_score, accuracy_score, confusion_matrix, roc_auc_score, average_precision_score\n",
    "from sklearn.preprocessing import RobustScaler, StandardScaler, MinMaxScaler\n",
    "import random\n",
    "import matplotlib.pyplot as plt\n",
    "import time\n",
    "import random\n",
    "from tqdm import tqdm\n",
    "plt.style.use('default')"
   ]
  },
  {
   "cell_type": "code",
   "execution_count": 84,
   "metadata": {},
   "outputs": [
    {
     "name": "stdout",
     "output_type": "stream",
     "text": [
      "Seed set globally to 42\n"
     ]
    }
   ],
   "source": [
    "\n",
    "# --- Add this near the top of your script ---\n",
    "def set_seed(seed_value=42):\n",
    "    \"\"\"Sets the seed for reproducibility in PyTorch, NumPy, and Python.\"\"\"\n",
    "    random.seed(seed_value)  # Python random module\n",
    "    np.random.seed(seed_value) # Numpy module\n",
    "    torch.manual_seed(seed_value) # PyTorch CPU seeding\n",
    "\n",
    "    if torch.cuda.is_available():\n",
    "        torch.cuda.manual_seed(seed_value)\n",
    "        torch.cuda.manual_seed_all(seed_value) # if you are using multi-GPU.\n",
    "        # Configure CuDNN for deterministic operations\n",
    "        torch.backends.cudnn.deterministic = True\n",
    "        torch.backends.cudnn.benchmark = False\n",
    "        # Optional: Newer PyTorch versions might require this for full determinism\n",
    "        # Note: This can sometimes throw errors if a deterministic implementation isn't available\n",
    "        # try:\n",
    "        #     torch.use_deterministic_algorithms(True)\n",
    "        # except Exception as e:\n",
    "        #     print(f\"Warning: Could not enable deterministic algorithms: {e}\")\n",
    "        # Optional: Sometimes needed for deterministic matrix multiplication\n",
    "        # os.environ['CUBLAS_WORKSPACE_CONFIG'] = ':4096:8'\n",
    "\n",
    "    print(f\"Seed set globally to {seed_value}\")\n",
    "\n",
    "\n",
    "\n",
    "# --- Call this function very early in your script ---\n",
    "SEED = 42 # Choose your desired seed value\n",
    "set_seed(SEED)\n"
   ]
  },
  {
   "cell_type": "code",
   "execution_count": null,
   "metadata": {},
   "outputs": [],
   "source": [
    "# Load in data after processing it with Q2_3b_data_processing.ipynb\n",
    "scaled_train_df = pd.read_parquet(\"data/scaled_train_data_processed_tuples.parquet\")\n",
    "scaled_val_df = pd.read_parquet(\"data/scaled_val_data_processed_tuples.parquet\")\n",
    "scaled_test_df = pd.read_parquet(\"data/scaled_test_data_processed_tuples.parquet\")\n",
    "\n",
    "train_outcomes_df = pd.read_csv(\"data/Outcomes-a.txt\")\n",
    "val_outcomes_df = pd.read_csv(\"data/Outcomes-b.txt\")\n",
    "test_outcomes_df = pd.read_csv(\"data/Outcomes-c.txt\")\n",
    "train_outcomes_dict = {record_id: outcome for record_id, outcome in zip(train_outcomes_df[\"RecordID\"], train_outcomes_df[\"In-hospital_death\"])}\n",
    "val_outcomes_dict = {record_id: outcome for record_id, outcome in zip(val_outcomes_df[\"RecordID\"], val_outcomes_df[\"In-hospital_death\"])}   \n",
    "test_outcomes_dict = {record_id: outcome for record_id, outcome in zip(test_outcomes_df[\"RecordID\"], test_outcomes_df[\"In-hospital_death\"])}"
   ]
  },
  {
   "cell_type": "code",
   "execution_count": 86,
   "metadata": {},
   "outputs": [
    {
     "name": "stdout",
     "output_type": "stream",
     "text": [
      "Aggregating sequences for 4000 patients...\n",
      "Filtering patients without labels and formatting output...\n",
      "Created 4000 sequences with labels.\n",
      "Aggregating sequences for 4000 patients...\n",
      "Filtering patients without labels and formatting output...\n",
      "Created 4000 sequences with labels.\n",
      "Aggregating sequences for 4000 patients...\n",
      "Filtering patients without labels and formatting output...\n",
      "Created 4000 sequences with labels.\n"
     ]
    }
   ],
   "source": [
    "def aggregate_triplets_from_df(df_scaled, labels_dict):\n",
    "    \"\"\"Groups scaled DataFrame by RecordID and creates sorted triplet lists.\"\"\"\n",
    "    patient_sequences = []\n",
    "    patient_labels = []\n",
    "    processed_ids = []\n",
    "    print(f\"Aggregating sequences for {df_scaled['RecordID'].nunique()} patients...\")\n",
    "\n",
    "    # Define the aggregation function (same as before)\n",
    "    def _aggregate(group):\n",
    "        # Using .to_numpy() might be slightly faster than zip inside apply\n",
    "        times = group['scaled_time'].to_numpy()\n",
    "        indices = group['z_index'].to_numpy()\n",
    "        values = group['scaled_value'].to_numpy()\n",
    "        triplets = list(zip(times, indices, values))\n",
    "        triplets.sort(key=lambda x: x[0]) # Sort by scaled_time\n",
    "        return triplets\n",
    "\n",
    "    # Apply the aggregation\n",
    "    # Groupby().apply() returns a Series (Index=RecordID, Value=list_of_triplets)\n",
    "    patient_data_series = df_scaled.groupby('RecordID')[[\"scaled_time\",\"z_index\",\"scaled_value\"]].apply(_aggregate)\n",
    "\n",
    "    # Convert Series to lists, ensuring labels exist\n",
    "    print(\"Filtering patients without labels and formatting output...\")\n",
    "    for record_id, triplets in patient_data_series.items():\n",
    "        if record_id in labels_dict:\n",
    "            patient_sequences.append(triplets)\n",
    "            patient_labels.append(labels_dict[record_id])\n",
    "            processed_ids.append(record_id)\n",
    "\n",
    "    print(f\"Created {len(patient_sequences)} sequences with labels.\")\n",
    "    return patient_sequences, patient_labels\n",
    "\n",
    "train_sequences, train_labels = aggregate_triplets_from_df(scaled_train_df, train_outcomes_dict)\n",
    "val_sequences, val_labels = aggregate_triplets_from_df(scaled_val_df, val_outcomes_dict)\n",
    "test_sequences, test_labels = aggregate_triplets_from_df(scaled_test_df, test_outcomes_dict)"
   ]
  },
  {
   "cell_type": "code",
   "execution_count": 87,
   "metadata": {},
   "outputs": [],
   "source": [
    "MODEL_SAVE_PATH = './V3_transformer_triplet_model_changed_hypers.pth'\n",
    "NUM_MODALITIES = 41\n",
    "\n",
    "# Model Hyperparameters (adjust as needed)\n",
    "MAX_SEQ_LEN = 768      # Max number of measurements per patient (tune based on data)\n",
    "D_MODEL = 192          # Transformer embedding dimension\n",
    "NHEAD = 8             # Number of attention heads\n",
    "NUM_ENCODER_LAYERS = 3 # Number of transformer encoder layers\n",
    "DIM_FEEDFORWARD = 512 # Dimension of feedforward network in transformer\n",
    "DROPOUT = 0.15\n",
    "NUM_CLASSES = 1       # Binary classification (output single logit)\n",
    "\n",
    "# Training Hyperparameters\n",
    "LEARNING_RATE = 3e-4\n",
    "WEIGHT_DECAY = 1e-4\n",
    "BATCH_SIZE = 32\n",
    "NUM_EPOCHS = 35       # Adjust as needed\n",
    "DEVICE = torch.device(\"cuda\" if torch.cuda.is_available() else \"mps\" if torch.mps.is_available() else \"cpu\")\n",
    "PAD_VALUE = -999.0    # Padding value for time and value features\n",
    "PAD_INDEX_Z = 0       # Padding index for modality (ensure 0 is reserved)\n"
   ]
  },
  {
   "cell_type": "code",
   "execution_count": null,
   "metadata": {},
   "outputs": [],
   "source": [
    "class MedicalTimeSeriesDatasetTuple(Dataset):\n",
    "    def __init__(self, data_triplets, labels, max_seq_len=MAX_SEQ_LEN):\n",
    "        self.data_triplets = data_triplets # List of lists of triplets\n",
    "        self.labels = labels               # List of labels\n",
    "        self.max_seq_len = max_seq_len\n",
    "\n",
    "    def __len__(self):\n",
    "        return len(self.labels)\n",
    "\n",
    "    def __getitem__(self, idx):\n",
    "        triplets = self.data_triplets[idx]\n",
    "        label = self.labels[idx]\n",
    "\n",
    "        if len(triplets) > self.max_seq_len:\n",
    "            triplets = triplets[:self.max_seq_len]\n",
    "        # Separate into t, z, v sequences\n",
    "        t_seq = torch.tensor([t[0] for t in triplets], dtype=torch.float32)\n",
    "        z_seq = torch.tensor([t[1] for t in triplets], dtype=torch.long)\n",
    "        v_seq = torch.tensor([t[2] for t in triplets], dtype=torch.float32)\n",
    "\n",
    "        return t_seq, z_seq, v_seq, torch.tensor(label, dtype=torch.float32)\n",
    "\n",
    "def collate_fn(batch):\n",
    "    PAD_VALUE = -999.0    # Padding value for time and value features\n",
    "    PAD_INDEX_Z = 0       # Padding index for modality (ensure 0 is reserved)\n",
    "\n",
    "    # Unzip the batch\n",
    "    t_seqs, z_seqs, v_seqs, labels = zip(*batch)\n",
    "\n",
    "    # Pad sequences to the maximum length in the batch\n",
    "    t_seqs_padded = nn.utils.rnn.pad_sequence(t_seqs, batch_first=True, padding_value=PAD_VALUE)\n",
    "    z_seqs_padded = nn.utils.rnn.pad_sequence(z_seqs, batch_first=True, padding_value=PAD_INDEX_Z)\n",
    "    v_seqs_padded = nn.utils.rnn.pad_sequence(v_seqs, batch_first=True, padding_value=PAD_VALUE)\n",
    "\n",
    "    # Create attention mask (True for non-pad elements)\n",
    "    # Use z_padded to determine mask, as PAD_INDEX_Z is specific\n",
    "    attn_mask = (z_seqs_padded != PAD_INDEX_Z)\n",
    "\n",
    "    labels = torch.stack(labels)\n",
    "\n",
    "    return t_seqs_padded, z_seqs_padded, v_seqs_padded, attn_mask, labels\n",
    "\n",
    " \n"
   ]
  },
  {
   "cell_type": "code",
   "execution_count": 89,
   "metadata": {},
   "outputs": [
    {
     "name": "stdout",
     "output_type": "stream",
     "text": [
      "\n",
      "--- Sequence Length Statistics (Training Set A) ---\n",
      "Minimum Length: 2\n",
      "Maximum Length: 1495\n",
      "Average Length: 436.26\n",
      "Median Length:  426\n",
      "\n",
      "--- Percentiles ---\n",
      "50th Percentile: 426\n",
      "75th Percentile: 507\n",
      "90th Percentile: 596\n",
      "95th Percentile: 655\n",
      "98th Percentile: 732\n",
      "99th Percentile: 789\n",
      "99.5th Percentile: 841\n",
      "99.9th Percentile: 1001\n",
      "\n",
      "Potential MAX_SEQ_LEN values to consider (adjust based on resources):\n",
      "  - Based on ~95th percentile (rounded up to multiple of 64): 704\n",
      "  - Based on ~99th percentile (rounded up to multiple of 64): 832\n",
      "  - Common starting points: 512, 768, 1024\n",
      "  - Absolute Max (use only if necessary & feasible): 1495\n",
      "\n",
      "Generating histogram...\n"
     ]
    },
    {
     "data": {
      "image/png": "[encoded data removed]",
      "text/plain": [
       "<Figure size 1200x600 with 1 Axes>"
      ]
     },
     "metadata": {},
     "output_type": "display_data"
    },
    {
     "data": {
      "image/png": "[encoded data removed]",
      "text/plain": [
       "<Figure size 1200x600 with 1 Axes>"
      ]
     },
     "metadata": {},
     "output_type": "display_data"
    }
   ],
   "source": [
    "import numpy as np\n",
    "import matplotlib.pyplot as plt\n",
    "import seaborn as sns\n",
    "\n",
    "sequence_lengths = [len(seq) for seq in train_sequences]\n",
    "l = [len(seq) for seq in test_sequences]\n",
    "x = [len(seq) for seq in val_sequences]\n",
    "sequence_lengths.extend(l)\n",
    "sequence_lengths.extend(x)\n",
    " \n",
    "\n",
    "lengths_array = np.array(sequence_lengths)\n",
    "\n",
    "# 2. Calculate Basic Statistics\n",
    "min_len = np.min(lengths_array)\n",
    "max_len = np.max(lengths_array)\n",
    "avg_len = np.mean(lengths_array)\n",
    "median_len = np.median(lengths_array) # 50th percentile\n",
    "\n",
    "print(\"\\n--- Sequence Length Statistics (Training Set A) ---\")\n",
    "print(f\"Minimum Length: {min_len}\")\n",
    "print(f\"Maximum Length: {max_len}\")\n",
    "print(f\"Average Length: {avg_len:.2f}\")\n",
    "print(f\"Median Length:  {median_len:.0f}\")\n",
    "\n",
    "# 3. Calculate Percentiles\n",
    "percentiles_to_calculate = [50, 75, 90, 95, 98, 99, 99.5, 99.9]\n",
    "percentile_values = np.percentile(lengths_array, percentiles_to_calculate)\n",
    "\n",
    "print(\"\\n--- Percentiles ---\")\n",
    "for p, val in zip(percentiles_to_calculate, percentile_values):\n",
    "    print(f\"{p}th Percentile: {val:.0f}\")\n",
    "\n",
    "\n",
    "p95_val = percentile_values[percentiles_to_calculate.index(95)]\n",
    "p99_val = percentile_values[percentiles_to_calculate.index(99)]\n",
    "\n",
    "# Suggest potential MAX_SEQ_LEN values (often rounded up slightly or to powers of 2/multiples of 8)\n",
    "suggested_max_len_p95 = int(np.ceil(p95_val / 64.0)) * 64 if p95_val > 0 else 64\n",
    "suggested_max_len_p99 = int(np.ceil(p99_val / 64.0)) * 64 if p99_val > 0 else 64\n",
    "\n",
    "print(f\"\\nPotential MAX_SEQ_LEN values to consider (adjust based on resources):\")\n",
    "print(f\"  - Based on ~95th percentile (rounded up to multiple of 64): {suggested_max_len_p95}\")\n",
    "print(f\"  - Based on ~99th percentile (rounded up to multiple of 64): {suggested_max_len_p99}\")\n",
    "print(f\"  - Common starting points: 512, 768, 1024\")\n",
    "print(f\"  - Absolute Max (use only if necessary & feasible): {max_len}\")\n",
    "\n",
    "# 5. Visualization (Optional but Recommended)\n",
    "print(\"\\nGenerating histogram...\")\n",
    "plt.figure(figsize=(12, 6))\n",
    "sns.histplot(lengths_array, bins=50, kde=False) # Use more bins if needed\n",
    "plt.title('Distribution of Sequence Lengths (Training Set A)')\n",
    "plt.xlabel('Sequence Length (Number of Measurements)')\n",
    "plt.ylabel('Number of Patients')\n",
    "# Add vertical lines for percentiles\n",
    "plt.axvline(median_len, color='r', linestyle='--', label=f'Median ({median_len:.0f})')\n",
    "plt.axvline(p95_val, color='g', linestyle=':', label=f'95th Percentile ({p95_val:.0f})')\n",
    "plt.axvline(p99_val, color='purple', linestyle=':', label=f'99th Percentile ({p99_val:.0f})')\n",
    "plt.legend()\n",
    "plt.grid(axis='y', alpha=0.5)\n",
    "plt.show()\n",
    "\n",
    "# Optional: Zoomed histogram if max length is very large\n",
    "plt.figure(figsize=(12, 6))\n",
    "sns.histplot(lengths_array[lengths_array <= suggested_max_len_p99], bins=50, kde=False) # Zoom below 99th percentile\n",
    "plt.title('Distribution of Sequence Lengths (Zoomed below 99th Percentile)')\n",
    "plt.xlabel('Sequence Length')\n",
    "plt.ylabel('Number of Patients')\n",
    "plt.axvline(median_len, color='r', linestyle='--', label=f'Median ({median_len:.0f})')\n",
    "plt.axvline(p95_val, color='g', linestyle=':', label=f'95th Percentile ({p95_val:.0f})')\n",
    "plt.legend()\n",
    "plt.grid(axis='y', alpha=0.5)\n",
    "plt.show()"
   ]
  },
  {
   "cell_type": "code",
   "execution_count": null,
   "metadata": {},
   "outputs": [],
   "source": [
    "train_dataset = MedicalTimeSeriesDatasetTuple(train_sequences, train_labels, max_seq_len=MAX_SEQ_LEN)\n",
    "val_dataset = MedicalTimeSeriesDatasetTuple(val_sequences, val_labels, max_seq_len=MAX_SEQ_LEN)\n",
    "test_dataset = MedicalTimeSeriesDatasetTuple(test_sequences, test_labels, max_seq_len=MAX_SEQ_LEN)\n",
    "\n",
    "train_loader = DataLoader(train_dataset, batch_size=BATCH_SIZE, shuffle=True, collate_fn=collate_fn)\n",
    "val_loader = DataLoader(val_dataset, batch_size=BATCH_SIZE, shuffle=False, collate_fn=collate_fn)\n",
    "test_loader = DataLoader(test_dataset, batch_size=BATCH_SIZE, shuffle=False, collate_fn=collate_fn)"
   ]
  },
  {
   "cell_type": "code",
   "execution_count": null,
   "metadata": {},
   "outputs": [],
   "source": [
    "# Transformer model\n",
    "\n",
    "class PositionalEncoding(nn.Module):\n",
    "    \"\"\"Standard sinusoidal positional encoding.\"\"\"\n",
    "    def __init__(self, d_model, dropout=0.1, max_len=5000):\n",
    "        super().__init__()\n",
    "        self.dropout = nn.Dropout(p=dropout)\n",
    "\n",
    "        position = torch.arange(max_len).unsqueeze(1)\n",
    "        div_term = torch.exp(torch.arange(0, d_model, 2) * (-torch.log(torch.tensor(10000.0)) / d_model))\n",
    "        pe = torch.zeros(max_len, 1, d_model)\n",
    "        pe[:, 0, 0::2] = torch.sin(position * div_term)\n",
    "        pe[:, 0, 1::2] = torch.cos(position * div_term)\n",
    "        self.register_buffer('pe', pe)\n",
    "\n",
    "    def forward(self, x):\n",
    "        \"\"\"\n",
    "        Args:\n",
    "            x: Tensor, shape [seq_len, batch_size, embedding_dim]\n",
    "        \"\"\"\n",
    "        x = x + self.pe[:x.size(0)]\n",
    "        self.pe: torch.Tensor\n",
    "\n",
    "        return self.dropout(x)\n",
    "\n",
    "\n",
    "class TimeSeriesTupleTransformer(nn.Module):\n",
    "    def __init__(self, num_modalities, d_model, nhead, num_encoder_layers,\n",
    "                 dim_feedforward, num_classes, dropout=0.1, max_seq_len=MAX_SEQ_LEN):\n",
    "        super().__init__()\n",
    "        self.d_model = d_model\n",
    "\n",
    "        # Input embeddings\n",
    "        self.modality_embedding = nn.Embedding(num_modalities, d_model, padding_idx=PAD_INDEX_Z)\n",
    "        # Linear layers to project time and value to d_model\n",
    "        # Alternatively, embed time/value differently if desired\n",
    "        self.time_encoder_linear = nn.Linear(1, d_model // 3) # Allocate parts of d_model\n",
    "        self.value_encoder_linear = nn.Linear(1, d_model // 3)\n",
    "        self.modality_adjust_linear = nn.Linear(d_model, d_model - (d_model // 3)*2) # Adjust modality emb size\n",
    "\n",
    "        # Combined projection (optional, could also just sum)\n",
    "        # self.input_proj = nn.Linear(d_model, d_model) # If concatenating\n",
    "\n",
    "        self.pos_encoder = PositionalEncoding(d_model, dropout, max_len=max_seq_len)\n",
    "        encoder_layer = nn.TransformerEncoderLayer(d_model, nhead, dim_feedforward, dropout, batch_first=True)\n",
    "        self.transformer_encoder = nn.TransformerEncoder(encoder_layer, num_encoder_layers)\n",
    "\n",
    "        # Classifier head\n",
    "        self.classifier = nn.Linear(d_model, num_classes)\n",
    "\n",
    "        self.init_weights()\n",
    "\n",
    "    def init_weights(self):\n",
    "        initrange = 0.1\n",
    "        self.modality_embedding.weight.data.uniform_(-initrange, initrange)\n",
    "        self.time_encoder_linear.weight.data.uniform_(-initrange, initrange)\n",
    "        self.value_encoder_linear.weight.data.uniform_(-initrange, initrange)\n",
    "        self.modality_adjust_linear.weight.data.uniform_(-initrange, initrange)\n",
    "        # self.input_proj.weight.data.uniform_(-initrange, initrange)\n",
    "        # self.input_proj.bias.data.zero_()\n",
    "        self.classifier.weight.data.uniform_(-initrange, initrange)\n",
    "        self.classifier.bias.data.zero_()\n",
    "\n",
    "    def forward(self, t_seq, z_seq, v_seq, src_key_padding_mask):\n",
    "        \"\"\"\n",
    "        Args:\n",
    "            t_seq: (batch_size, seq_len) - Scaled time\n",
    "            z_seq: (batch_size, seq_len) - Modality indices\n",
    "            v_seq: (batch_size, seq_len) - Scaled values\n",
    "            src_key_padding_mask: (batch_size, seq_len) - Bool mask (True=ignore)\n",
    "        \"\"\"\n",
    "        # Embed inputs\n",
    "        mod_emb = self.modality_embedding(z_seq) # (B, S, D)\n",
    "        time_emb = self.time_encoder_linear(t_seq.unsqueeze(-1)) # (B, S, D//3)\n",
    "        val_emb = self.value_encoder_linear(v_seq.unsqueeze(-1))  # (B, S, D//3)\n",
    "        mod_emb_adj = self.modality_adjust_linear(mod_emb) # (B, S, D - 2*(D//3))\n",
    "\n",
    "\n",
    "        # Combine embeddings - Concatenation is common\n",
    "        # Ensure total dimension matches d_model\n",
    "        combined_emb = torch.cat([time_emb, val_emb, mod_emb_adj], dim=-1) # (B, S, D)\n",
    "        # combined_emb = self.input_proj(combined_emb) # Optional projection\n",
    "\n",
    "        # Apply positional encoding (needs shape adjustment for default PyTorch PE)\n",
    "        # Default PE expects (S, B, D)\n",
    "        combined_emb = combined_emb.transpose(0, 1) # (S, B, D)\n",
    "        combined_emb = self.pos_encoder(combined_emb)\n",
    "        combined_emb = combined_emb.transpose(0, 1) # (B, S, D) - Back to batch_first\n",
    "\n",
    "        # Transformer Encoder\n",
    "        # src_key_padding_mask should be True for positions to ignore\n",
    "        transformer_output = self.transformer_encoder(combined_emb, # (S, B, D)\n",
    "                                                    src_key_padding_mask=~src_key_padding_mask) \n",
    "\n",
    "        # Pooling - Mean pool over non-padded elements\n",
    "        # Need mask in float format for division\n",
    "        mask_float = src_key_padding_mask.unsqueeze(-1).float() # (B, S, 1)\n",
    "        masked_sum = (transformer_output * mask_float).sum(dim=1) # (B, D)\n",
    "        num_valid = mask_float.sum(dim=1).clamp(min=1e-9) # (B, 1)\n",
    "        pooled_output = masked_sum / num_valid # (B, D)\n",
    "\n",
    "        # Classification\n",
    "        logits = self.classifier(pooled_output) # (B, num_classes)\n",
    "        return logits\n",
    "\n",
    "    \n"
   ]
  },
  {
   "cell_type": "code",
   "execution_count": 92,
   "metadata": {},
   "outputs": [],
   "source": [
    "def train_epoch(model, dataloader, optimizer, criterion, device):\n",
    "    model.train()\n",
    "    total_loss = 0.0\n",
    "    all_preds = []\n",
    "    all_labels = []\n",
    "\n",
    "    for t_seq, z_seq, v_seq, attn_mask, labels in tqdm(dataloader, desc=\"Training\"):\n",
    "        t_seq, z_seq, v_seq = t_seq.to(device), z_seq.to(device), v_seq.to(device)\n",
    "        attn_mask, labels = attn_mask.to(device), labels.to(device)\n",
    "\n",
    "        optimizer.zero_grad()\n",
    "        logits = model(t_seq, z_seq, v_seq, attn_mask) # Pass correct mask polarity\n",
    "\n",
    "        loss = criterion(logits.squeeze(-1), labels) # Squeeze if num_classes=1\n",
    "        loss.backward()\n",
    "        optimizer.step()\n",
    "\n",
    "        total_loss += loss.item()\n",
    "        # Store predictions and labels for epoch metrics\n",
    "        preds = torch.sigmoid(logits.squeeze(-1)).detach().cpu().numpy()\n",
    "        all_preds.extend(preds)\n",
    "        all_labels.extend(labels.cpu().numpy())\n",
    "\n",
    "    avg_loss = total_loss / len(dataloader)\n",
    "    epoch_auc = roc_auc_score(all_labels, all_preds)\n",
    "    epoch_auprc = average_precision_score(all_labels, all_preds)\n",
    "    return avg_loss, epoch_auc, epoch_auprc\n",
    "\n",
    "def evaluate(model, dataloader, criterion, device):\n",
    "    model.eval()\n",
    "    total_loss = 0.0\n",
    "    all_preds = []\n",
    "    all_labels = []\n",
    "\n",
    "    with torch.no_grad():\n",
    "        for t_seq, z_seq, v_seq, attn_mask, labels in tqdm(dataloader, desc=\"Evaluating\"):\n",
    "            t_seq, z_seq, v_seq = t_seq.to(device), z_seq.to(device), v_seq.to(device)\n",
    "            attn_mask, labels = attn_mask.to(device), labels.to(device)\n",
    "\n",
    "            logits = model(t_seq, z_seq, v_seq, attn_mask)\n",
    "            loss = criterion(logits.squeeze(-1), labels)\n",
    "            total_loss += loss.item()\n",
    "\n",
    "            preds = torch.sigmoid(logits.squeeze(-1)).cpu().numpy()\n",
    "            all_preds.extend(preds)\n",
    "            all_labels.extend(labels.cpu().numpy())\n",
    "\n",
    "    avg_loss = total_loss / len(dataloader)\n",
    "    auc = roc_auc_score(all_labels, all_preds)\n",
    "    auprc = average_precision_score(all_labels, all_preds)\n",
    "    return avg_loss, auc, auprc\n",
    "\n",
    "\n",
    "\n"
   ]
  },
  {
   "cell_type": "code",
   "execution_count": null,
   "metadata": {},
   "outputs": [
    {
     "name": "stdout",
     "output_type": "stream",
     "text": [
      "TransformerForMeasurements(\n",
      "  (modality_embedding): Embedding(41, 192, padding_idx=0)\n",
      "  (time_encoder_linear): Linear(in_features=1, out_features=64, bias=True)\n",
      "  (value_encoder_linear): Linear(in_features=1, out_features=64, bias=True)\n",
      "  (modality_adjust_linear): Linear(in_features=192, out_features=64, bias=True)\n",
      "  (pos_encoder): PositionalEncoding(\n",
      "    (dropout): Dropout(p=0.15, inplace=False)\n",
      "  )\n",
      "  (transformer_encoder): TransformerEncoder(\n",
      "    (layers): ModuleList(\n",
      "      (0-2): 3 x TransformerEncoderLayer(\n",
      "        (self_attn): MultiheadAttention(\n",
      "          (out_proj): NonDynamicallyQuantizableLinear(in_features=192, out_features=192, bias=True)\n",
      "        )\n",
      "        (linear1): Linear(in_features=192, out_features=512, bias=True)\n",
      "        (dropout): Dropout(p=0.15, inplace=False)\n",
      "        (linear2): Linear(in_features=512, out_features=192, bias=True)\n",
      "        (norm1): LayerNorm((192,), eps=1e-05, elementwise_affine=True)\n",
      "        (norm2): LayerNorm((192,), eps=1e-05, elementwise_affine=True)\n",
      "        (dropout1): Dropout(p=0.15, inplace=False)\n",
      "        (dropout2): Dropout(p=0.15, inplace=False)\n",
      "      )\n",
      "    )\n",
      "  )\n",
      "  (classifier): Linear(in_features=192, out_features=1, bias=True)\n",
      ")\n",
      "Total parameters: 1059585\n",
      "\n",
      "--- Epoch 1/35 ---\n"
     ]
    },
    {
     "name": "stderr",
     "output_type": "stream",
     "text": [
      "Training: 100%|██████████| 125/125 [00:19<00:00,  6.35it/s]\n"
     ]
    },
    {
     "name": "stdout",
     "output_type": "stream",
     "text": [
      "Train Loss: 1.2346, Train AuROC: 0.5061, Train AuPRC: 0.1389\n"
     ]
    },
    {
     "name": "stderr",
     "output_type": "stream",
     "text": [
      "Evaluating: 100%|██████████| 125/125 [00:02<00:00, 48.52it/s]\n"
     ]
    },
    {
     "name": "stdout",
     "output_type": "stream",
     "text": [
      "Val Loss:   1.1920, Val AuROC:   0.6018, Val AuPRC:   0.2097\n",
      "Validation AuPRC improved (-1.0000 -> 0.2097). Saving model...\n",
      "Current LR: 0.000300\n",
      "\n",
      "--- Epoch 2/35 ---\n"
     ]
    },
    {
     "name": "stderr",
     "output_type": "stream",
     "text": [
      "Training: 100%|██████████| 125/125 [00:19<00:00,  6.40it/s]\n"
     ]
    },
    {
     "name": "stdout",
     "output_type": "stream",
     "text": [
      "Train Loss: 1.2014, Train AuROC: 0.5303, Train AuPRC: 0.1537\n"
     ]
    },
    {
     "name": "stderr",
     "output_type": "stream",
     "text": [
      "Evaluating: 100%|██████████| 125/125 [00:02<00:00, 48.19it/s]\n"
     ]
    },
    {
     "name": "stdout",
     "output_type": "stream",
     "text": [
      "Val Loss:   1.2064, Val AuROC:   0.6070, Val AuPRC:   0.2148\n",
      "Validation AuPRC improved (0.2097 -> 0.2148). Saving model...\n",
      "Current LR: 0.000300\n",
      "\n",
      "--- Epoch 3/35 ---\n"
     ]
    },
    {
     "name": "stderr",
     "output_type": "stream",
     "text": [
      "Training: 100%|██████████| 125/125 [00:19<00:00,  6.31it/s]\n"
     ]
    },
    {
     "name": "stdout",
     "output_type": "stream",
     "text": [
      "Train Loss: 1.1944, Train AuROC: 0.5468, Train AuPRC: 0.1561\n"
     ]
    },
    {
     "name": "stderr",
     "output_type": "stream",
     "text": [
      "Evaluating: 100%|██████████| 125/125 [00:02<00:00, 48.14it/s]\n"
     ]
    },
    {
     "name": "stdout",
     "output_type": "stream",
     "text": [
      "Val Loss:   1.1890, Val AuROC:   0.6261, Val AuPRC:   0.2301\n",
      "Validation AuPRC improved (0.2148 -> 0.2301). Saving model...\n",
      "Current LR: 0.000300\n",
      "\n",
      "--- Epoch 4/35 ---\n"
     ]
    },
    {
     "name": "stderr",
     "output_type": "stream",
     "text": [
      "Training: 100%|██████████| 125/125 [00:19<00:00,  6.32it/s]\n"
     ]
    },
    {
     "name": "stdout",
     "output_type": "stream",
     "text": [
      "Train Loss: 1.1890, Train AuROC: 0.5667, Train AuPRC: 0.1750\n"
     ]
    },
    {
     "name": "stderr",
     "output_type": "stream",
     "text": [
      "Evaluating: 100%|██████████| 125/125 [00:02<00:00, 48.13it/s]\n"
     ]
    },
    {
     "name": "stdout",
     "output_type": "stream",
     "text": [
      "Val Loss:   1.1811, Val AuROC:   0.6649, Val AuPRC:   0.2660\n",
      "Validation AuPRC improved (0.2301 -> 0.2660). Saving model...\n",
      "Current LR: 0.000300\n",
      "\n",
      "--- Epoch 5/35 ---\n"
     ]
    },
    {
     "name": "stderr",
     "output_type": "stream",
     "text": [
      "Training: 100%|██████████| 125/125 [00:19<00:00,  6.33it/s]\n"
     ]
    },
    {
     "name": "stdout",
     "output_type": "stream",
     "text": [
      "Train Loss: 1.1612, Train AuROC: 0.6176, Train AuPRC: 0.1976\n"
     ]
    },
    {
     "name": "stderr",
     "output_type": "stream",
     "text": [
      "Evaluating: 100%|██████████| 125/125 [00:02<00:00, 48.59it/s]\n"
     ]
    },
    {
     "name": "stdout",
     "output_type": "stream",
     "text": [
      "Val Loss:   1.1435, Val AuROC:   0.6960, Val AuPRC:   0.2820\n",
      "Validation AuPRC improved (0.2660 -> 0.2820). Saving model...\n",
      "Current LR: 0.000300\n",
      "\n",
      "--- Epoch 6/35 ---\n"
     ]
    },
    {
     "name": "stderr",
     "output_type": "stream",
     "text": [
      "Training: 100%|██████████| 125/125 [00:19<00:00,  6.27it/s]\n"
     ]
    },
    {
     "name": "stdout",
     "output_type": "stream",
     "text": [
      "Train Loss: 1.0988, Train AuROC: 0.6858, Train AuPRC: 0.2430\n"
     ]
    },
    {
     "name": "stderr",
     "output_type": "stream",
     "text": [
      "Evaluating: 100%|██████████| 125/125 [00:02<00:00, 48.18it/s]\n"
     ]
    },
    {
     "name": "stdout",
     "output_type": "stream",
     "text": [
      "Val Loss:   1.1509, Val AuROC:   0.7510, Val AuPRC:   0.3140\n",
      "Validation AuPRC improved (0.2820 -> 0.3140). Saving model...\n",
      "Current LR: 0.000300\n",
      "\n",
      "--- Epoch 7/35 ---\n"
     ]
    },
    {
     "name": "stderr",
     "output_type": "stream",
     "text": [
      "Training: 100%|██████████| 125/125 [00:19<00:00,  6.32it/s]\n"
     ]
    },
    {
     "name": "stdout",
     "output_type": "stream",
     "text": [
      "Train Loss: 1.0234, Train AuROC: 0.7444, Train AuPRC: 0.2905\n"
     ]
    },
    {
     "name": "stderr",
     "output_type": "stream",
     "text": [
      "Evaluating: 100%|██████████| 125/125 [00:02<00:00, 48.06it/s]\n"
     ]
    },
    {
     "name": "stdout",
     "output_type": "stream",
     "text": [
      "Val Loss:   1.1949, Val AuROC:   0.7741, Val AuPRC:   0.3442\n",
      "Validation AuPRC improved (0.3140 -> 0.3442). Saving model...\n",
      "Current LR: 0.000300\n",
      "\n",
      "--- Epoch 8/35 ---\n"
     ]
    },
    {
     "name": "stderr",
     "output_type": "stream",
     "text": [
      "Training: 100%|██████████| 125/125 [00:19<00:00,  6.35it/s]\n"
     ]
    },
    {
     "name": "stdout",
     "output_type": "stream",
     "text": [
      "Train Loss: 0.9628, Train AuROC: 0.7811, Train AuPRC: 0.3233\n"
     ]
    },
    {
     "name": "stderr",
     "output_type": "stream",
     "text": [
      "Evaluating: 100%|██████████| 125/125 [00:02<00:00, 48.50it/s]\n"
     ]
    },
    {
     "name": "stdout",
     "output_type": "stream",
     "text": [
      "Val Loss:   0.9991, Val AuROC:   0.7802, Val AuPRC:   0.3487\n",
      "Validation AuPRC improved (0.3442 -> 0.3487). Saving model...\n",
      "Current LR: 0.000300\n",
      "\n",
      "--- Epoch 9/35 ---\n"
     ]
    },
    {
     "name": "stderr",
     "output_type": "stream",
     "text": [
      "Training: 100%|██████████| 125/125 [00:19<00:00,  6.35it/s]\n"
     ]
    },
    {
     "name": "stdout",
     "output_type": "stream",
     "text": [
      "Train Loss: 0.9512, Train AuROC: 0.7919, Train AuPRC: 0.3385\n"
     ]
    },
    {
     "name": "stderr",
     "output_type": "stream",
     "text": [
      "Evaluating: 100%|██████████| 125/125 [00:02<00:00, 48.04it/s]\n"
     ]
    },
    {
     "name": "stdout",
     "output_type": "stream",
     "text": [
      "Val Loss:   0.9923, Val AuROC:   0.7878, Val AuPRC:   0.3879\n",
      "Validation AuPRC improved (0.3487 -> 0.3879). Saving model...\n",
      "Current LR: 0.000300\n",
      "\n",
      "--- Epoch 10/35 ---\n"
     ]
    },
    {
     "name": "stderr",
     "output_type": "stream",
     "text": [
      "Training: 100%|██████████| 125/125 [00:19<00:00,  6.26it/s]\n"
     ]
    },
    {
     "name": "stdout",
     "output_type": "stream",
     "text": [
      "Train Loss: 0.9356, Train AuROC: 0.7956, Train AuPRC: 0.3525\n"
     ]
    },
    {
     "name": "stderr",
     "output_type": "stream",
     "text": [
      "Evaluating: 100%|██████████| 125/125 [00:02<00:00, 48.39it/s]\n"
     ]
    },
    {
     "name": "stdout",
     "output_type": "stream",
     "text": [
      "Val Loss:   1.1742, Val AuROC:   0.7772, Val AuPRC:   0.3623\n",
      "Current LR: 0.000300\n",
      "\n",
      "--- Epoch 11/35 ---\n"
     ]
    },
    {
     "name": "stderr",
     "output_type": "stream",
     "text": [
      "Training: 100%|██████████| 125/125 [00:19<00:00,  6.41it/s]\n"
     ]
    },
    {
     "name": "stdout",
     "output_type": "stream",
     "text": [
      "Train Loss: 0.9169, Train AuROC: 0.8063, Train AuPRC: 0.3847\n"
     ]
    },
    {
     "name": "stderr",
     "output_type": "stream",
     "text": [
      "Evaluating: 100%|██████████| 125/125 [00:02<00:00, 48.00it/s]\n"
     ]
    },
    {
     "name": "stdout",
     "output_type": "stream",
     "text": [
      "Val Loss:   1.0055, Val AuROC:   0.7881, Val AuPRC:   0.3903\n",
      "Validation AuPRC improved (0.3879 -> 0.3903). Saving model...\n",
      "Current LR: 0.000300\n",
      "\n",
      "--- Epoch 12/35 ---\n"
     ]
    },
    {
     "name": "stderr",
     "output_type": "stream",
     "text": [
      "Training: 100%|██████████| 125/125 [00:19<00:00,  6.30it/s]\n"
     ]
    },
    {
     "name": "stdout",
     "output_type": "stream",
     "text": [
      "Train Loss: 0.8713, Train AuROC: 0.8287, Train AuPRC: 0.4275\n"
     ]
    },
    {
     "name": "stderr",
     "output_type": "stream",
     "text": [
      "Evaluating: 100%|██████████| 125/125 [00:02<00:00, 48.13it/s]\n"
     ]
    },
    {
     "name": "stdout",
     "output_type": "stream",
     "text": [
      "Val Loss:   1.1608, Val AuROC:   0.7901, Val AuPRC:   0.3933\n",
      "Validation AuPRC improved (0.3903 -> 0.3933). Saving model...\n",
      "Current LR: 0.000300\n",
      "\n",
      "--- Epoch 13/35 ---\n"
     ]
    },
    {
     "name": "stderr",
     "output_type": "stream",
     "text": [
      "Training: 100%|██████████| 125/125 [00:19<00:00,  6.36it/s]\n"
     ]
    },
    {
     "name": "stdout",
     "output_type": "stream",
     "text": [
      "Train Loss: 0.8940, Train AuROC: 0.8183, Train AuPRC: 0.3907\n"
     ]
    },
    {
     "name": "stderr",
     "output_type": "stream",
     "text": [
      "Evaluating: 100%|██████████| 125/125 [00:02<00:00, 48.43it/s]\n"
     ]
    },
    {
     "name": "stdout",
     "output_type": "stream",
     "text": [
      "Val Loss:   0.9986, Val AuROC:   0.7930, Val AuPRC:   0.3993\n",
      "Validation AuPRC improved (0.3933 -> 0.3993). Saving model...\n",
      "Current LR: 0.000030\n",
      "\n",
      "--- Epoch 14/35 ---\n"
     ]
    },
    {
     "name": "stderr",
     "output_type": "stream",
     "text": [
      "Training: 100%|██████████| 125/125 [00:19<00:00,  6.31it/s]\n"
     ]
    },
    {
     "name": "stdout",
     "output_type": "stream",
     "text": [
      "Train Loss: 0.8090, Train AuROC: 0.8555, Train AuPRC: 0.4731\n"
     ]
    },
    {
     "name": "stderr",
     "output_type": "stream",
     "text": [
      "Evaluating: 100%|██████████| 125/125 [00:02<00:00, 47.69it/s]\n"
     ]
    },
    {
     "name": "stdout",
     "output_type": "stream",
     "text": [
      "Val Loss:   1.0957, Val AuROC:   0.7925, Val AuPRC:   0.4021\n",
      "Validation AuPRC improved (0.3993 -> 0.4021). Saving model...\n",
      "Current LR: 0.000030\n",
      "\n",
      "--- Epoch 15/35 ---\n"
     ]
    },
    {
     "name": "stderr",
     "output_type": "stream",
     "text": [
      "Training: 100%|██████████| 125/125 [00:19<00:00,  6.30it/s]\n"
     ]
    },
    {
     "name": "stdout",
     "output_type": "stream",
     "text": [
      "Train Loss: 0.7955, Train AuROC: 0.8587, Train AuPRC: 0.4869\n"
     ]
    },
    {
     "name": "stderr",
     "output_type": "stream",
     "text": [
      "Evaluating: 100%|██████████| 125/125 [00:02<00:00, 47.86it/s]\n"
     ]
    },
    {
     "name": "stdout",
     "output_type": "stream",
     "text": [
      "Val Loss:   1.1039, Val AuROC:   0.7907, Val AuPRC:   0.3977\n",
      "Current LR: 0.000030\n",
      "\n",
      "--- Epoch 16/35 ---\n"
     ]
    },
    {
     "name": "stderr",
     "output_type": "stream",
     "text": [
      "Training: 100%|██████████| 125/125 [00:19<00:00,  6.34it/s]\n"
     ]
    },
    {
     "name": "stdout",
     "output_type": "stream",
     "text": [
      "Train Loss: 0.7879, Train AuROC: 0.8626, Train AuPRC: 0.5076\n"
     ]
    },
    {
     "name": "stderr",
     "output_type": "stream",
     "text": [
      "Evaluating: 100%|██████████| 125/125 [00:02<00:00, 48.48it/s]\n"
     ]
    },
    {
     "name": "stdout",
     "output_type": "stream",
     "text": [
      "Val Loss:   1.0704, Val AuROC:   0.7903, Val AuPRC:   0.3927\n",
      "Current LR: 0.000030\n",
      "\n",
      "--- Epoch 17/35 ---\n"
     ]
    },
    {
     "name": "stderr",
     "output_type": "stream",
     "text": [
      "Training: 100%|██████████| 125/125 [00:19<00:00,  6.26it/s]\n"
     ]
    },
    {
     "name": "stdout",
     "output_type": "stream",
     "text": [
      "Train Loss: 0.8024, Train AuROC: 0.8571, Train AuPRC: 0.4973\n"
     ]
    },
    {
     "name": "stderr",
     "output_type": "stream",
     "text": [
      "Evaluating: 100%|██████████| 125/125 [00:02<00:00, 47.87it/s]\n"
     ]
    },
    {
     "name": "stdout",
     "output_type": "stream",
     "text": [
      "Val Loss:   1.1027, Val AuROC:   0.7903, Val AuPRC:   0.3968\n",
      "Current LR: 0.000003\n",
      "\n",
      "--- Epoch 18/35 ---\n"
     ]
    },
    {
     "name": "stderr",
     "output_type": "stream",
     "text": [
      "Training: 100%|██████████| 125/125 [00:19<00:00,  6.30it/s]\n"
     ]
    },
    {
     "name": "stdout",
     "output_type": "stream",
     "text": [
      "Train Loss: 0.7740, Train AuROC: 0.8670, Train AuPRC: 0.5021\n"
     ]
    },
    {
     "name": "stderr",
     "output_type": "stream",
     "text": [
      "Evaluating: 100%|██████████| 125/125 [00:02<00:00, 47.91it/s]\n"
     ]
    },
    {
     "name": "stdout",
     "output_type": "stream",
     "text": [
      "Val Loss:   1.0931, Val AuROC:   0.7908, Val AuPRC:   0.3960\n",
      "Current LR: 0.000003\n",
      "\n",
      "--- Epoch 19/35 ---\n"
     ]
    },
    {
     "name": "stderr",
     "output_type": "stream",
     "text": [
      "Training: 100%|██████████| 125/125 [00:19<00:00,  6.31it/s]\n"
     ]
    },
    {
     "name": "stdout",
     "output_type": "stream",
     "text": [
      "Train Loss: 0.7734, Train AuROC: 0.8652, Train AuPRC: 0.5047\n"
     ]
    },
    {
     "name": "stderr",
     "output_type": "stream",
     "text": [
      "Evaluating: 100%|██████████| 125/125 [00:02<00:00, 47.93it/s]\n"
     ]
    },
    {
     "name": "stdout",
     "output_type": "stream",
     "text": [
      "Val Loss:   1.0933, Val AuROC:   0.7912, Val AuPRC:   0.3951\n",
      "Current LR: 0.000003\n",
      "\n",
      "--- Epoch 20/35 ---\n"
     ]
    },
    {
     "name": "stderr",
     "output_type": "stream",
     "text": [
      "Training: 100%|██████████| 125/125 [00:19<00:00,  6.32it/s]\n"
     ]
    },
    {
     "name": "stdout",
     "output_type": "stream",
     "text": [
      "Train Loss: 0.7640, Train AuROC: 0.8702, Train AuPRC: 0.5173\n"
     ]
    },
    {
     "name": "stderr",
     "output_type": "stream",
     "text": [
      "Evaluating: 100%|██████████| 125/125 [00:02<00:00, 47.83it/s]\n"
     ]
    },
    {
     "name": "stdout",
     "output_type": "stream",
     "text": [
      "Val Loss:   1.1054, Val AuROC:   0.7911, Val AuPRC:   0.3954\n",
      "Current LR: 0.000003\n",
      "\n",
      "--- Epoch 21/35 ---\n"
     ]
    },
    {
     "name": "stderr",
     "output_type": "stream",
     "text": [
      "Training: 100%|██████████| 125/125 [00:19<00:00,  6.26it/s]\n"
     ]
    },
    {
     "name": "stdout",
     "output_type": "stream",
     "text": [
      "Train Loss: 0.7656, Train AuROC: 0.8674, Train AuPRC: 0.4983\n"
     ]
    },
    {
     "name": "stderr",
     "output_type": "stream",
     "text": [
      "Evaluating: 100%|██████████| 125/125 [00:02<00:00, 48.07it/s]\n"
     ]
    },
    {
     "name": "stdout",
     "output_type": "stream",
     "text": [
      "Val Loss:   1.1125, Val AuROC:   0.7910, Val AuPRC:   0.3951\n",
      "Current LR: 0.000000\n",
      "\n",
      "--- Epoch 22/35 ---\n"
     ]
    },
    {
     "name": "stderr",
     "output_type": "stream",
     "text": [
      "Training: 100%|██████████| 125/125 [00:19<00:00,  6.38it/s]\n"
     ]
    },
    {
     "name": "stdout",
     "output_type": "stream",
     "text": [
      "Train Loss: 0.7736, Train AuROC: 0.8645, Train AuPRC: 0.5007\n"
     ]
    },
    {
     "name": "stderr",
     "output_type": "stream",
     "text": [
      "Evaluating: 100%|██████████| 125/125 [00:02<00:00, 47.74it/s]\n"
     ]
    },
    {
     "name": "stdout",
     "output_type": "stream",
     "text": [
      "Val Loss:   1.1128, Val AuROC:   0.7910, Val AuPRC:   0.3950\n",
      "Current LR: 0.000000\n",
      "\n",
      "--- Epoch 23/35 ---\n"
     ]
    },
    {
     "name": "stderr",
     "output_type": "stream",
     "text": [
      "Training: 100%|██████████| 125/125 [00:19<00:00,  6.31it/s]\n"
     ]
    },
    {
     "name": "stdout",
     "output_type": "stream",
     "text": [
      "Train Loss: 0.7772, Train AuROC: 0.8652, Train AuPRC: 0.5121\n"
     ]
    },
    {
     "name": "stderr",
     "output_type": "stream",
     "text": [
      "Evaluating: 100%|██████████| 125/125 [00:02<00:00, 48.58it/s]\n"
     ]
    },
    {
     "name": "stdout",
     "output_type": "stream",
     "text": [
      "Val Loss:   1.1116, Val AuROC:   0.7910, Val AuPRC:   0.3949\n",
      "Current LR: 0.000000\n",
      "\n",
      "--- Epoch 24/35 ---\n"
     ]
    },
    {
     "name": "stderr",
     "output_type": "stream",
     "text": [
      "Training: 100%|██████████| 125/125 [00:19<00:00,  6.31it/s]\n"
     ]
    },
    {
     "name": "stdout",
     "output_type": "stream",
     "text": [
      "Train Loss: 0.7724, Train AuROC: 0.8661, Train AuPRC: 0.5101\n"
     ]
    },
    {
     "name": "stderr",
     "output_type": "stream",
     "text": [
      "Evaluating: 100%|██████████| 125/125 [00:02<00:00, 48.13it/s]\n"
     ]
    },
    {
     "name": "stdout",
     "output_type": "stream",
     "text": [
      "Val Loss:   1.1116, Val AuROC:   0.7910, Val AuPRC:   0.3949\n",
      "Current LR: 0.000000\n",
      "\n",
      "--- Epoch 25/35 ---\n"
     ]
    },
    {
     "name": "stderr",
     "output_type": "stream",
     "text": [
      "Training:   6%|▌         | 7/125 [00:01<00:20,  5.87it/s]\n"
     ]
    },
    {
     "ename": "KeyboardInterrupt",
     "evalue": "",
     "output_type": "error",
     "traceback": [
      "\u001b[0;31m---------------------------------------------------------------------------\u001b[0m",
      "\u001b[0;31mKeyboardInterrupt\u001b[0m                         Traceback (most recent call last)",
      "Cell \u001b[0;32mIn[93], line 33\u001b[0m\n\u001b[1;32m     31\u001b[0m \u001b[38;5;28;01mfor\u001b[39;00m epoch \u001b[38;5;129;01min\u001b[39;00m \u001b[38;5;28mrange\u001b[39m(NUM_EPOCHS):\n\u001b[1;32m     32\u001b[0m     \u001b[38;5;28mprint\u001b[39m(\u001b[38;5;124mf\u001b[39m\u001b[38;5;124m\"\u001b[39m\u001b[38;5;130;01m\\n\u001b[39;00m\u001b[38;5;124m--- Epoch \u001b[39m\u001b[38;5;132;01m{\u001b[39;00mepoch\u001b[38;5;241m+\u001b[39m\u001b[38;5;241m1\u001b[39m\u001b[38;5;132;01m}\u001b[39;00m\u001b[38;5;124m/\u001b[39m\u001b[38;5;132;01m{\u001b[39;00mNUM_EPOCHS\u001b[38;5;132;01m}\u001b[39;00m\u001b[38;5;124m ---\u001b[39m\u001b[38;5;124m\"\u001b[39m)\n\u001b[0;32m---> 33\u001b[0m     train_loss, train_auc, train_auprc \u001b[38;5;241m=\u001b[39m \u001b[43mtrain_epoch\u001b[49m\u001b[43m(\u001b[49m\u001b[43mmodel\u001b[49m\u001b[43m,\u001b[49m\u001b[43m \u001b[49m\u001b[43mtrain_loader\u001b[49m\u001b[43m,\u001b[49m\u001b[43m \u001b[49m\u001b[43moptimizer\u001b[49m\u001b[43m,\u001b[49m\u001b[43m \u001b[49m\u001b[43mcriterion\u001b[49m\u001b[43m,\u001b[49m\u001b[43m \u001b[49m\u001b[43mDEVICE\u001b[49m\u001b[43m)\u001b[49m\n\u001b[1;32m     34\u001b[0m     \u001b[38;5;28mprint\u001b[39m(\u001b[38;5;124mf\u001b[39m\u001b[38;5;124m\"\u001b[39m\u001b[38;5;124mTrain Loss: \u001b[39m\u001b[38;5;132;01m{\u001b[39;00mtrain_loss\u001b[38;5;132;01m:\u001b[39;00m\u001b[38;5;124m.4f\u001b[39m\u001b[38;5;132;01m}\u001b[39;00m\u001b[38;5;124m, Train AuROC: \u001b[39m\u001b[38;5;132;01m{\u001b[39;00mtrain_auc\u001b[38;5;132;01m:\u001b[39;00m\u001b[38;5;124m.4f\u001b[39m\u001b[38;5;132;01m}\u001b[39;00m\u001b[38;5;124m, Train AuPRC: \u001b[39m\u001b[38;5;132;01m{\u001b[39;00mtrain_auprc\u001b[38;5;132;01m:\u001b[39;00m\u001b[38;5;124m.4f\u001b[39m\u001b[38;5;132;01m}\u001b[39;00m\u001b[38;5;124m\"\u001b[39m)\n\u001b[1;32m     36\u001b[0m     val_loss, val_auc, val_auprc \u001b[38;5;241m=\u001b[39m evaluate(model, val_loader, criterion, DEVICE)\n",
      "Cell \u001b[0;32mIn[92], line 15\u001b[0m, in \u001b[0;36mtrain_epoch\u001b[0;34m(model, dataloader, optimizer, criterion, device)\u001b[0m\n\u001b[1;32m     12\u001b[0m logits \u001b[38;5;241m=\u001b[39m model(t_seq, z_seq, v_seq, attn_mask) \u001b[38;5;66;03m# Pass correct mask polarity\u001b[39;00m\n\u001b[1;32m     14\u001b[0m loss \u001b[38;5;241m=\u001b[39m criterion(logits\u001b[38;5;241m.\u001b[39msqueeze(\u001b[38;5;241m-\u001b[39m\u001b[38;5;241m1\u001b[39m), labels) \u001b[38;5;66;03m# Squeeze if num_classes=1\u001b[39;00m\n\u001b[0;32m---> 15\u001b[0m \u001b[43mloss\u001b[49m\u001b[38;5;241;43m.\u001b[39;49m\u001b[43mbackward\u001b[49m\u001b[43m(\u001b[49m\u001b[43m)\u001b[49m\n\u001b[1;32m     16\u001b[0m optimizer\u001b[38;5;241m.\u001b[39mstep()\n\u001b[1;32m     18\u001b[0m total_loss \u001b[38;5;241m+\u001b[39m\u001b[38;5;241m=\u001b[39m loss\u001b[38;5;241m.\u001b[39mitem()\n",
      "File \u001b[0;32m/opt/conda/envs/hodl_jupyter_env/lib/python3.11/site-packages/torch/_tensor.py:525\u001b[0m, in \u001b[0;36mTensor.backward\u001b[0;34m(self, gradient, retain_graph, create_graph, inputs)\u001b[0m\n\u001b[1;32m    515\u001b[0m \u001b[38;5;28;01mif\u001b[39;00m has_torch_function_unary(\u001b[38;5;28mself\u001b[39m):\n\u001b[1;32m    516\u001b[0m     \u001b[38;5;28;01mreturn\u001b[39;00m handle_torch_function(\n\u001b[1;32m    517\u001b[0m         Tensor\u001b[38;5;241m.\u001b[39mbackward,\n\u001b[1;32m    518\u001b[0m         (\u001b[38;5;28mself\u001b[39m,),\n\u001b[0;32m   (...)\u001b[0m\n\u001b[1;32m    523\u001b[0m         inputs\u001b[38;5;241m=\u001b[39minputs,\n\u001b[1;32m    524\u001b[0m     )\n\u001b[0;32m--> 525\u001b[0m \u001b[43mtorch\u001b[49m\u001b[38;5;241;43m.\u001b[39;49m\u001b[43mautograd\u001b[49m\u001b[38;5;241;43m.\u001b[39;49m\u001b[43mbackward\u001b[49m\u001b[43m(\u001b[49m\n\u001b[1;32m    526\u001b[0m \u001b[43m    \u001b[49m\u001b[38;5;28;43mself\u001b[39;49m\u001b[43m,\u001b[49m\u001b[43m \u001b[49m\u001b[43mgradient\u001b[49m\u001b[43m,\u001b[49m\u001b[43m \u001b[49m\u001b[43mretain_graph\u001b[49m\u001b[43m,\u001b[49m\u001b[43m \u001b[49m\u001b[43mcreate_graph\u001b[49m\u001b[43m,\u001b[49m\u001b[43m \u001b[49m\u001b[43minputs\u001b[49m\u001b[38;5;241;43m=\u001b[39;49m\u001b[43minputs\u001b[49m\n\u001b[1;32m    527\u001b[0m \u001b[43m\u001b[49m\u001b[43m)\u001b[49m\n",
      "File \u001b[0;32m/opt/conda/envs/hodl_jupyter_env/lib/python3.11/site-packages/torch/autograd/__init__.py:267\u001b[0m, in \u001b[0;36mbackward\u001b[0;34m(tensors, grad_tensors, retain_graph, create_graph, grad_variables, inputs)\u001b[0m\n\u001b[1;32m    262\u001b[0m     retain_graph \u001b[38;5;241m=\u001b[39m create_graph\n\u001b[1;32m    264\u001b[0m \u001b[38;5;66;03m# The reason we repeat the same comment below is that\u001b[39;00m\n\u001b[1;32m    265\u001b[0m \u001b[38;5;66;03m# some Python versions print out the first line of a multi-line function\u001b[39;00m\n\u001b[1;32m    266\u001b[0m \u001b[38;5;66;03m# calls in the traceback and some print out the last line\u001b[39;00m\n\u001b[0;32m--> 267\u001b[0m \u001b[43m_engine_run_backward\u001b[49m\u001b[43m(\u001b[49m\n\u001b[1;32m    268\u001b[0m \u001b[43m    \u001b[49m\u001b[43mtensors\u001b[49m\u001b[43m,\u001b[49m\n\u001b[1;32m    269\u001b[0m \u001b[43m    \u001b[49m\u001b[43mgrad_tensors_\u001b[49m\u001b[43m,\u001b[49m\n\u001b[1;32m    270\u001b[0m \u001b[43m    \u001b[49m\u001b[43mretain_graph\u001b[49m\u001b[43m,\u001b[49m\n\u001b[1;32m    271\u001b[0m \u001b[43m    \u001b[49m\u001b[43mcreate_graph\u001b[49m\u001b[43m,\u001b[49m\n\u001b[1;32m    272\u001b[0m \u001b[43m    \u001b[49m\u001b[43minputs\u001b[49m\u001b[43m,\u001b[49m\n\u001b[1;32m    273\u001b[0m \u001b[43m    \u001b[49m\u001b[43mallow_unreachable\u001b[49m\u001b[38;5;241;43m=\u001b[39;49m\u001b[38;5;28;43;01mTrue\u001b[39;49;00m\u001b[43m,\u001b[49m\n\u001b[1;32m    274\u001b[0m \u001b[43m    \u001b[49m\u001b[43maccumulate_grad\u001b[49m\u001b[38;5;241;43m=\u001b[39;49m\u001b[38;5;28;43;01mTrue\u001b[39;49;00m\u001b[43m,\u001b[49m\n\u001b[1;32m    275\u001b[0m \u001b[43m\u001b[49m\u001b[43m)\u001b[49m\n",
      "File \u001b[0;32m/opt/conda/envs/hodl_jupyter_env/lib/python3.11/site-packages/torch/autograd/graph.py:744\u001b[0m, in \u001b[0;36m_engine_run_backward\u001b[0;34m(t_outputs, *args, **kwargs)\u001b[0m\n\u001b[1;32m    742\u001b[0m     unregister_hooks \u001b[38;5;241m=\u001b[39m _register_logging_hooks_on_whole_graph(t_outputs)\n\u001b[1;32m    743\u001b[0m \u001b[38;5;28;01mtry\u001b[39;00m:\n\u001b[0;32m--> 744\u001b[0m     \u001b[38;5;28;01mreturn\u001b[39;00m \u001b[43mVariable\u001b[49m\u001b[38;5;241;43m.\u001b[39;49m\u001b[43m_execution_engine\u001b[49m\u001b[38;5;241;43m.\u001b[39;49m\u001b[43mrun_backward\u001b[49m\u001b[43m(\u001b[49m\u001b[43m  \u001b[49m\u001b[38;5;66;43;03m# Calls into the C++ engine to run the backward pass\u001b[39;49;00m\n\u001b[1;32m    745\u001b[0m \u001b[43m        \u001b[49m\u001b[43mt_outputs\u001b[49m\u001b[43m,\u001b[49m\u001b[43m \u001b[49m\u001b[38;5;241;43m*\u001b[39;49m\u001b[43margs\u001b[49m\u001b[43m,\u001b[49m\u001b[43m \u001b[49m\u001b[38;5;241;43m*\u001b[39;49m\u001b[38;5;241;43m*\u001b[39;49m\u001b[43mkwargs\u001b[49m\n\u001b[1;32m    746\u001b[0m \u001b[43m    \u001b[49m\u001b[43m)\u001b[49m  \u001b[38;5;66;03m# Calls into the C++ engine to run the backward pass\u001b[39;00m\n\u001b[1;32m    747\u001b[0m \u001b[38;5;28;01mfinally\u001b[39;00m:\n\u001b[1;32m    748\u001b[0m     \u001b[38;5;28;01mif\u001b[39;00m attach_logging_hooks:\n",
      "\u001b[0;31mKeyboardInterrupt\u001b[0m: "
     ]
    }
   ],
   "source": [
    "model = TimeSeriesTupleTransformer(\n",
    "        num_modalities=NUM_MODALITIES,\n",
    "        d_model=D_MODEL,\n",
    "        nhead=NHEAD,\n",
    "        num_encoder_layers=NUM_ENCODER_LAYERS,\n",
    "        dim_feedforward=DIM_FEEDFORWARD,\n",
    "        num_classes=NUM_CLASSES,\n",
    "        dropout=DROPOUT,\n",
    "        max_seq_len=MAX_SEQ_LEN\n",
    "    ).to(DEVICE)\n",
    "\n",
    "optimizer = optim.AdamW(model.parameters(), lr=LEARNING_RATE, weight_decay=WEIGHT_DECAY)\n",
    "scheduler = optim.lr_scheduler.ReduceLROnPlateau(optimizer, mode='min', factor=0.1, patience=3)\n",
    "\n",
    "\n",
    "num_positives = np.array(train_labels).sum()\n",
    "num_negatives = len(train_labels) - num_positives\n",
    "pos_weight_val = num_negatives / num_positives\n",
    "pos_weight = torch.tensor([pos_weight_val], dtype= torch.float32,  device=DEVICE) # Wrap in tensor for BCEWithLogitsLoss\n",
    "\n",
    "# # Loss Function with weighting\n",
    "criterion = nn.BCEWithLogitsLoss(pos_weight=pos_weight)\n",
    "\n",
    "print(model)\n",
    "print(f\"Total parameters: {sum(p.numel() for p in model.parameters() if p.requires_grad)}\")\n",
    "\n",
    "\n",
    "# --- Training Loop ---\n",
    "best_val_auprc = -1.0\n",
    "\n",
    "for epoch in range(NUM_EPOCHS):\n",
    "    print(f\"\\n--- Epoch {epoch+1}/{NUM_EPOCHS} ---\")\n",
    "    train_loss, train_auc, train_auprc = train_epoch(model, train_loader, optimizer, criterion, DEVICE)\n",
    "    print(f\"Train Loss: {train_loss:.4f}, Train AuROC: {train_auc:.4f}, Train AuPRC: {train_auprc:.4f}\")\n",
    "\n",
    "    val_loss, val_auc, val_auprc = evaluate(model, val_loader, criterion, DEVICE)\n",
    "    print(f\"Val Loss:   {val_loss:.4f}, Val AuROC:   {val_auc:.4f}, Val AuPRC:   {val_auprc:.4f}\")\n",
    "\n",
    "    # Save best model based on validation AuPRC\n",
    "    if val_auprc > best_val_auprc:\n",
    "        print(f\"Validation AuPRC improved ({best_val_auprc:.4f} -> {val_auprc:.4f}). Saving model...\")\n",
    "        best_val_auprc = val_auprc\n",
    "        torch.save(model.state_dict(), MODEL_SAVE_PATH)\n",
    "\n",
    "    scheduler.step(val_loss)\n",
    "    print(f\"Current LR: {optimizer.param_groups[0]['lr']:.6f}\") # Optional: Track LR\n",
    "\n",
    "\n",
    "# --- Final Evaluation on Test Set ---\n",
    "print(\"\\n--- Final Evaluation on Test Set ---\")\n",
    "# Load best model\n",
    "model.load_state_dict(torch.load(MODEL_SAVE_PATH))\n",
    "test_loss, test_auc, test_auprc = evaluate(model, test_loader, criterion, DEVICE)\n",
    "print(\"-------------------------------------------\")\n",
    "print(f\"Test Loss:   {test_loss:.4f}\")\n",
    "print(f\"Test AuROC:  {test_auc:.4f}\")\n",
    "print(f\"Test AuPRC:  {test_auprc:.4f}\")\n",
    "print(\"-------------------------------------------\")\n",
    "\n"
   ]
  }
 ],
 "metadata": {
  "kernelspec": {
   "display_name": "Python 3 (ipykernel)",
   "language": "python",
   "name": "python3"
  },
  "language_info": {
   "codemirror_mode": {
    "name": "ipython",
    "version": 3
   },
   "file_extension": ".py",
   "mimetype": "text/x-python",
   "name": "python",
   "nbconvert_exporter": "python",
   "pygments_lexer": "ipython3",
   "version": "3.11.10"
  }
 },
 "nbformat": 4,
 "nbformat_minor": 2
}
