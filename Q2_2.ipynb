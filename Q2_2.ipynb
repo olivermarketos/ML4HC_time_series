{
 "cells": [
  {
   "cell_type": "code",
   "execution_count": 1,
   "id": "9cdb747e-9203-4743-90e0-fe25a9c5d366",
   "metadata": {},
   "outputs": [],
   "source": [
    "import numpy as np\n",
    "import pandas as pd\n",
    "import matplotlib.pyplot as plt\n",
    "import seaborn as sns\n",
    "import os\n",
    "import torch\n",
    "import torch.nn as nn\n",
    "import torch.optim as optim\n",
    "from tqdm import tqdm\n",
    "from sklearn.preprocessing import MinMaxScaler\n",
    "from sklearn.metrics import average_precision_score, roc_auc_score, accuracy_score, confusion_matrix, ConfusionMatrixDisplay"
   ]
  },
  {
   "cell_type": "code",
   "execution_count": 2,
   "id": "8571a847-53b0-428a-9170-f3457ed5d86c",
   "metadata": {},
   "outputs": [
    {
     "name": "stdout",
     "output_type": "stream",
     "text": [
      "mps\n"
     ]
    }
   ],
   "source": [
    "if torch.backends.mps.is_available():\n",
    "    device = torch.device(\"mps\")\n",
    "else:\n",
    "    device = torch.device(\"cpu\")\n",
    "print(device)"
   ]
  },
  {
   "cell_type": "markdown",
   "id": "cf9b8ee8-882f-45e2-ad9e-79d5b5ebee66",
   "metadata": {},
   "source": [
    "# Loading the data"
   ]
  },
  {
   "cell_type": "code",
   "execution_count": 3,
   "id": "6fba5971-2d27-437d-b367-b5db2a3a52b2",
   "metadata": {},
   "outputs": [],
   "source": [
    "def train_one_epoch(epoch_index, tb_writer):\n",
    "    running_loss = 0.\n",
    "    last_loss = 0.\n",
    "\n",
    "    # Here, we use enumerate(training_loader) instead of\n",
    "    # iter(training_loader) so that we can track the batch\n",
    "    # index and do some intra-epoch reporting\n",
    "    for i, data in enumerate(training_loader):\n",
    "        # Every data instance is an input + label pair\n",
    "        inputs, labels = data\n",
    "\n",
    "        # Zero your gradients for every batch!\n",
    "        optimizer.zero_grad()\n",
    "\n",
    "        # Make predictions for this batch\n",
    "        outputs = model(inputs)\n",
    "\n",
    "        # Compute the loss and its gradients\n",
    "        loss = loss_fn(outputs, labels)\n",
    "        loss.backward()\n",
    "\n",
    "        # Adjust learning weights\n",
    "        optimizer.step()\n",
    "\n",
    "        # Gather data and report\n",
    "        running_loss += loss.item()\n",
    "        if i % 1000 == 999:\n",
    "            last_loss = running_loss / 1000 # loss per batch\n",
    "            print('  batch {} loss: {}'.format(i + 1, last_loss))\n",
    "            tb_x = epoch_index * len(training_loader) + i + 1\n",
    "            tb_writer.add_scalar('Loss/train', last_loss, tb_x)\n",
    "            running_loss = 0.\n",
    "\n",
    "    return last_loss"
   ]
  },
  {
   "cell_type": "code",
   "execution_count": 4,
   "id": "2fa8c531-22bc-4b94-a25c-248f8f1bf0d7",
   "metadata": {},
   "outputs": [],
   "source": [
    "# Loading the train and validation data sets and their outcomes\n",
    "data_train = pd.read_parquet('./data_processed/set-a.parquet')\n",
    "data_validate = pd.read_parquet('data_processed/set-b.parquet')\n",
    "data_test = pd.read_parquet('./data_processed/set-c.parquet')\n",
    "\n",
    "outcomes_train = pd.read_csv('./data/Outcomes-a.txt')\n",
    "outcomes_train = outcomes_train.loc[:, ['RecordID', 'In-hospital_death']].set_index('RecordID')\n",
    "outcomes_validate = pd.read_csv('./data/Outcomes-b.txt')\n",
    "outcomes_validate = outcomes_validate.loc[:, ['RecordID', 'In-hospital_death']].set_index('RecordID')\n",
    "outcomes_test = pd.read_csv('./data/Outcomes-c.txt')\n",
    "outcomes_test = outcomes_test.loc[:, ['RecordID', 'In-hospital_death']].set_index('RecordID')"
   ]
  },
  {
   "cell_type": "code",
   "execution_count": 5,
   "id": "ed3e842e-bb1e-4164-835b-566025ba2372",
   "metadata": {},
   "outputs": [
    {
     "name": "stdout",
     "output_type": "stream",
     "text": [
      "25\n",
      "16\n"
     ]
    }
   ],
   "source": [
    "min_max_cols = ['Age', 'DiasABP', 'FiO2', 'GCS', 'Gender', 'Glucose', 'HCO3', 'HCT', 'HR', \n",
    "                'Height', 'K', 'MAP', 'NIDiasABP','NIMAP', 'NISysABP', 'Na', 'PaCO2', 'PaO2', \n",
    "                'RespRate', 'SysABP', 'Temp', 'Weight', 'Albumin', 'Cholesterol', 'MechVent'] \n",
    "log_min_max_cols = data_train.columns.drop(min_max_cols).drop(['RecordID', 'Time'])\n",
    "print(len(min_max_cols))\n",
    "print(len(log_min_max_cols))"
   ]
  },
  {
   "cell_type": "code",
   "execution_count": 6,
   "id": "e5e0154a-8e46-4de1-a30d-6160c14edb50",
   "metadata": {},
   "outputs": [],
   "source": [
    "# Min-max scaling\n",
    "scaler = MinMaxScaler()\n",
    "data_train_scaled = data_train.copy()\n",
    "data_train_scaled[data_train_scaled.columns.drop(['RecordID', 'Time'])] = scaler.fit_transform(data_train[data_train.columns.drop(['RecordID', 'Time'])])\n",
    "\n",
    "data_val_scaled = data_validate.copy()\n",
    "data_val_scaled[data_val_scaled.columns.drop(['RecordID', 'Time'])] = scaler.fit_transform(data_validate[data_validate.columns.drop(['RecordID', 'Time'])])\n",
    "\n",
    "data_test_scaled = data_test.copy()\n",
    "data_test_scaled[data_test_scaled.columns.drop(['RecordID', 'Time'])] = scaler.fit_transform(data_test[data_test.columns.drop(['RecordID', 'Time']).values])"
   ]
  },
  {
   "cell_type": "markdown",
   "id": "d3efbe33-1389-44d4-8ae9-545eec0e3026",
   "metadata": {},
   "source": [
    "# Defining useful functions"
   ]
  },
  {
   "cell_type": "code",
   "execution_count": 7,
   "id": "1cadfba4-a432-411d-94a9-5a5aeaac512e",
   "metadata": {
    "tags": []
   },
   "outputs": [],
   "source": [
    "def convert_data_to_tensor(features, outcomes, device='cpu'):\n",
    "    \"\"\"\n",
    "    Converts tabular time-series features and outcome labels into PyTorch tensors suitable for LSTM input.\n",
    "\n",
    "    This function groups the input data by 'RecordID' to form sequences for each individual record,\n",
    "    drops unnecessary columns ('RecordID' and 'Time'), and stacks them into a batch of sequences.\n",
    "    Corresponding outcome labels are matched using the 'RecordID' index.\n",
    "\n",
    "    Parameters:\n",
    "    -----------\n",
    "    features : pandas.DataFrame\n",
    "        A DataFrame containing time-series feature values. Expected to include:\n",
    "            - 'RecordID' column: identifies each individual sequence (e.g., a patient or entity).\n",
    "            - 'Time' column: time ordering of observations (dropped during tensor creation).\n",
    "            - Remaining columns: actual input features.\n",
    "\n",
    "    outcomes : pandas.DataFrame\n",
    "        A DataFrame containing binary or continuous outcome labels, indexed by 'RecordID'.\n",
    "        Each unique 'RecordID' should appear once and map to a single label.\n",
    "\n",
    "    device : str, optional (default='cpu')\n",
    "        The device to move the output tensors to (e.g., 'cuda', 'mps', or 'cpu').\n",
    "\n",
    "    Returns:\n",
    "    --------\n",
    "    features_batch : torch.Tensor\n",
    "        A 3D tensor of shape (batch_size, seq_length, input_size), where:\n",
    "            - batch_size: number of unique RecordIDs (i.e., sequences).\n",
    "            - seq_length: number of time steps for each record (can vary if padded later).\n",
    "            - input_size: number of input features per time step.\n",
    "\n",
    "    targets_batch : torch.Tensor\n",
    "        A 2D tensor of shape (batch_size, 1), containing one target label per sequence.\n",
    "    \"\"\"\n",
    "    all_sequences = []\n",
    "    all_targets = []\n",
    "    \n",
    "    for ID in features['RecordID'].unique():\n",
    "        features_df = features.loc[features['RecordID'] == ID, :].drop(['RecordID', 'Time'], axis=1)\n",
    "        features_tensor = torch.tensor(features_df.values, dtype=torch.float32)\n",
    "\n",
    "        target = torch.tensor(outcomes.loc[ID].values).float()\n",
    "\n",
    "        all_sequences.append(features_tensor)\n",
    "        all_targets.append(target)\n",
    "    \n",
    "    features_batch = torch.stack(all_sequences)\n",
    "    targets_batch = torch.stack(all_targets)\n",
    "    \n",
    "    return features_batch.to(device), targets_batch.to(device)"
   ]
  },
  {
   "cell_type": "code",
   "execution_count": 75,
   "id": "a31aaa5a-99cb-45b9-8cb7-120588a45364",
   "metadata": {},
   "outputs": [],
   "source": [
    "class Classifier(nn.Module):\n",
    "    \"\"\"\n",
    "    A simple LSTM-based binary classifier.\n",
    "\n",
    "    Args:\n",
    "        input_size (int): Number of input features per time step.\n",
    "        hidden_size (int): Number of features in the LSTM hidden state.\n",
    "        bidirectional (bool, optional): If True, uses a bidirectional LSTM. Defaults to False.\n",
    "    \"\"\"\n",
    "    def __init__(self, input_size, hidden_size, bidirectional=False):\n",
    "        super(Classifier, self).__init__()\n",
    "        self.bidirectional = bidirectional\n",
    "        self.lstm = nn.LSTM(input_size, hidden_size, bidirectional=bidirectional)\n",
    "        self.classifier = nn.Linear(1, 1)  # Final linear layer expects 1-dimensional input\n",
    "\n",
    "    def forward(self, x):\n",
    "        \"\"\"\n",
    "        Forward pass of the model.\n",
    "\n",
    "        Args:\n",
    "            x (Tensor): Input tensor of shape (seq_len, batch_size, input_size).\n",
    "\n",
    "        Returns:\n",
    "            Tensor: Output logits of shape (batch_size, 1).\n",
    "        \"\"\"\n",
    "        x, _ = self.lstm(x)  # Run input through LSTM\n",
    "\n",
    "        if self.bidirectional:\n",
    "            # If bidirectional, average across hidden units and reshape to (batch_size, 1)\n",
    "            x = (x[:, 0, -1] + x[:, -1, 0]) / 2\n",
    "            x = x.mean(axis=1).reshape(x.shape[0], 1)\n",
    "        else:\n",
    "            x = x[:, -1, :]      # Take output from the last time step\n",
    "\n",
    "\n",
    "        return self.classifier(x)  # Pass through final linear layer\n"
   ]
  },
  {
   "cell_type": "code",
   "execution_count": 9,
   "id": "d8fa98ee-56d0-4274-ab12-96ac3b12ed09",
   "metadata": {},
   "outputs": [],
   "source": [
    "def train_model(model, criterion, X_train, y_train, X_val, y_val, initial_parameter=None, num_epochs=100):\n",
    "    \"\"\"\n",
    "    Trains a PyTorch model using a given loss criterion and optimizer, and evaluates on a validation set.\n",
    "\n",
    "    Args:\n",
    "        model (nn.Module): The PyTorch model to train.\n",
    "        criterion (nn.Module): Loss function, e.g., nn.BCEWithLogitsLoss().\n",
    "        X_train (Tensor): Training input features (Tensor).\n",
    "        y_train (Tensor): Training labels (Tensor).\n",
    "        X_val (Tensor): Validation input features (Tensor).\n",
    "        y_val (Tensor): Validation labels (Tensor).\n",
    "        initial_parameter (float, optional): If specified, fills all model parameters with this value before training.\n",
    "        num_epochs (int): Number of training epochs. Default is 100.\n",
    "\n",
    "    Returns:\n",
    "        Tuple:\n",
    "            - model (nn.Module): The trained model.\n",
    "            - metrics (dict): Dictionary containing training/validation losses, accuracies, AUROCs, and AUPRCs.\n",
    "    \"\"\"\n",
    "    # Ensure labels are 1D\n",
    "    y_train = y_train.squeeze()\n",
    "    y_val = y_val.squeeze()\n",
    "    \n",
    "    # Convert validation labels to numpy once (for metric computation)\n",
    "    y_val_numpy = y_val.cpu().numpy()\n",
    "    \n",
    "    # Metrics to collect during training\n",
    "    train_losses = []\n",
    "    val_losses = []\n",
    "    accuracies = []\n",
    "    aurocs = []\n",
    "    auprcs = []\n",
    "\n",
    "    # Optional: initialize all model parameters to a fixed value\n",
    "    if initial_parameter != None:\n",
    "        with torch.no_grad():\n",
    "            for param in model.parameters():\n",
    "                param.fill_(initial_parameter)\n",
    "                param.requires_grad_(True)\n",
    "\n",
    "    # Use Adam optimizer\n",
    "    optimizer = optim.Adam(model.parameters())\n",
    "\n",
    "    # Training loop\n",
    "    for epoch in tqdm(range(num_epochs)):\n",
    "        model.train()\n",
    "        y_pred = model(X_train).squeeze()  # Forward pass on training data\n",
    "\n",
    "        loss = criterion(y_pred, y_train)  # Compute training loss\n",
    "        train_losses.append(loss.item())\n",
    "\n",
    "        optimizer.zero_grad()\n",
    "        loss.backward()\n",
    "        optimizer.step()\n",
    "\n",
    "        # Validation phase\n",
    "        model.eval()\n",
    "        y_pred = model(X_val).squeeze()  # Forward pass on validation data\n",
    "\n",
    "        loss = criterion(y_pred, y_val)  # Compute validation loss\n",
    "        val_losses.append(loss.item())\n",
    "\n",
    "        # Compute metrics\n",
    "        predictions = torch.sigmoid(y_pred).round().detach().cpu().numpy()\n",
    "        accuracies.append(accuracy_score(y_val_numpy, predictions))\n",
    "        aurocs.append(roc_auc_score(y_val_numpy, predictions))\n",
    "        auprcs.append(average_precision_score(y_val_numpy, predictions))\n",
    "\n",
    "        # Early stopping logic placeholder (commented out)\n",
    "        # if best_val_loss - loss < 1e-3:\n",
    "        #     break\n",
    "        # else:\n",
    "        #     best_val_loss = loss\n",
    "        \n",
    "    return model, {\n",
    "        'train losses': train_losses,\n",
    "        'val losses': val_losses,\n",
    "        'accuracies': accuracies,\n",
    "        'aurocs': aurocs,\n",
    "        'auprcs': auprcs\n",
    "    }\n"
   ]
  },
  {
   "cell_type": "code",
   "execution_count": 10,
   "id": "02f801f0-86e9-4901-b84b-c032b72d26a9",
   "metadata": {},
   "outputs": [],
   "source": [
    "def test_model(model, criterion, X_test, y_test):\n",
    "    \"\"\"\n",
    "    Evaluates a trained model on a test dataset using various binary classification metrics.\n",
    "\n",
    "    Args:\n",
    "        model (nn.Module): The trained PyTorch model.\n",
    "        criterion (nn.Module): Loss function used during evaluation, e.g., nn.BCEWithLogitsLoss().\n",
    "        X_test (Tensor): Test input features.\n",
    "        y_test (Tensor): Test labels.\n",
    "\n",
    "    Returns:\n",
    "        Tuple:\n",
    "            - loss (Tensor): Loss value on the test set.\n",
    "            - accuracy (float): Classification accuracy.\n",
    "            - auroc (float): Area under the ROC curve.\n",
    "            - auprc (float): Area under the precision-recall curve.\n",
    "            - conf_matrix (ndarray): Confusion matrix as a NumPy array.\n",
    "    \"\"\"\n",
    "    # Ensure labels are 1D\n",
    "    y_test = y_test.squeeze()\n",
    "    \n",
    "    # Store a NumPy version of the ground truth labels for metric computation\n",
    "    y_test_numpy = y_test.cpu().numpy()\n",
    "\n",
    "    model.eval()  # Set model to evaluation mode\n",
    "\n",
    "    with torch.no_grad():  # Disable gradient computation for evaluation\n",
    "        y_pred = model(X_test).squeeze()  # Forward pass on test data\n",
    "\n",
    "        loss = criterion(y_pred, y_test)  # Compute test loss\n",
    "\n",
    "        # Apply sigmoid to logits, round to binary predictions, convert to NumPy\n",
    "        predictions = torch.sigmoid(y_pred).round().cpu().numpy()\n",
    "\n",
    "        # Compute evaluation metrics\n",
    "        accuracy = accuracy_score(y_test_numpy, predictions)\n",
    "        auroc = roc_auc_score(y_test_numpy, predictions)\n",
    "        auprc = average_precision_score(y_test_numpy, predictions)\n",
    "        conf_matrix = confusion_matrix(y_test_numpy, predictions)\n",
    "\n",
    "    return loss, accuracy, auroc, auprc, conf_matrix\n"
   ]
  },
  {
   "cell_type": "markdown",
   "id": "655f831a-4eee-4761-8657-b83db7e2fc45",
   "metadata": {},
   "source": [
    "# Creating LSTM with BCEWithLogitsLoss"
   ]
  },
  {
   "cell_type": "code",
   "execution_count": 21,
   "id": "a0d2f92c-4a9a-469e-9b7c-d12c2b9b7389",
   "metadata": {},
   "outputs": [],
   "source": [
    "X_train_val, y_train_val = convert_data_to_tensor(pd.concat([data_test_scaled, data_val_scaled]), pd.concat([outcomes_test, outcomes_validate]), device)"
   ]
  },
  {
   "cell_type": "code",
   "execution_count": 18,
   "id": "6c773f3a-baab-4d76-a1f4-6522f9f6a300",
   "metadata": {},
   "outputs": [],
   "source": [
    "X_train, y_train = convert_data_to_tensor(data_train_scaled, outcomes_train, device)\n",
    "X_val, y_val = convert_data_to_tensor(data_val_scaled, outcomes_validate, device)\n",
    "X_test, y_test = convert_data_to_tensor(data_test_scaled, outcomes_test, device)"
   ]
  },
  {
   "cell_type": "code",
   "execution_count": 91,
   "id": "b1fc5576-75ab-4261-b100-b31e271f8ca8",
   "metadata": {},
   "outputs": [],
   "source": [
    "model = Classifier(41, 1, bidirectional=True).to(device)\n",
    "criterion = nn.BCEWithLogitsLoss(pos_weight=(y_train.shape[0] - y_train.sum()) / y_train.sum())"
   ]
  },
  {
   "cell_type": "code",
   "execution_count": 98,
   "id": "b98707b7-c0ee-41a7-852c-5f5886352d56",
   "metadata": {},
   "outputs": [
    {
     "name": "stderr",
     "output_type": "stream",
     "text": [
      "100%|█████████████████████████████████████████| 500/500 [04:14<00:00,  1.97it/s]"
     ]
    },
    {
     "name": "stdout",
     "output_type": "stream",
     "text": [
      "Accuracy: 0.7438, AuROC: 0.7677, AuPRC: 0.2949\n",
      "\n"
     ]
    },
    {
     "name": "stderr",
     "output_type": "stream",
     "text": [
      "\n"
     ]
    }
   ],
   "source": [
    "trained_model, metrics = train_model(model, criterion, X_train_val, y_train_val, X_val, y_val, initial_parameter=None, num_epochs=500)\n",
    "print(f'Accuracy: {metrics[\"accuracies\"][-1]:.4f}, AuROC: {metrics[\"aurocs\"][-1]:.4f}, AuPRC: {metrics[\"auprcs\"][-1]:.4f}\\n')"
   ]
  },
  {
   "cell_type": "raw",
   "id": "5b676cbf-f582-4120-a62e-9f29a33819ff",
   "metadata": {},
   "source": [
    "Accuracy: 0.7495, AuROC: 0.7453, AuPRC: 0.2808"
   ]
  },
  {
   "cell_type": "code",
   "execution_count": 154,
   "id": "183d2363-6898-4c5d-8367-526ce3a5d7d3",
   "metadata": {},
   "outputs": [
    {
     "name": "stderr",
     "output_type": "stream",
     "text": [
      "100%|███████████████████████████████████████| 1000/1000 [05:21<00:00,  3.11it/s]"
     ]
    },
    {
     "name": "stdout",
     "output_type": "stream",
     "text": [
      "Accuracy: 0.7430, AuROC: 0.7577, AuPRC: 0.2874\n",
      "\n"
     ]
    },
    {
     "name": "stderr",
     "output_type": "stream",
     "text": [
      "\n"
     ]
    }
   ],
   "source": [
    "trained_model, metrics = train_model(model, criterion, X_train, y_train, X_val, y_val, initial_parameter=0.1, num_epochs=1000)\n",
    "print(f'Accuracy: {metrics[\"accuracies\"][-1]:.4f}, AuROC: {metrics[\"aurocs\"][-1]:.4f}, AuPRC: {metrics[\"auprcs\"][-1]:.4f}\\n')"
   ]
  },
  {
   "cell_type": "code",
   "execution_count": 99,
   "id": "7e9e9722-9826-48ab-be0e-1da53e0491d7",
   "metadata": {},
   "outputs": [
    {
     "data": {
      "image/png": "[encoded data removed]",
      "text/plain": [
       "<Figure size 640x480 with 4 Axes>"
      ]
     },
     "metadata": {},
     "output_type": "display_data"
    }
   ],
   "source": [
    "plt.subplot(2, 2, 1)\n",
    "plt.plot(metrics['aurocs'])\n",
    "plt.title('AuROC')\n",
    "\n",
    "plt.subplot(2, 2, 2)\n",
    "plt.plot(metrics['auprcs'])\n",
    "plt.title('AuPRC')\n",
    "\n",
    "plt.subplot(2, 2, 3)\n",
    "plt.plot(metrics['accuracies'])\n",
    "plt.title('Accuracy')\n",
    "\n",
    "plt.subplot(2, 2, 4)\n",
    "plt.plot(metrics['train losses'], label='Train Loss')\n",
    "plt.plot(metrics['val losses'], label='Validation Loss')\n",
    "plt.legend()\n",
    "plt.title('Loss')\n",
    "\n",
    "plt.tight_layout()\n",
    "plt.show()"
   ]
  },
  {
   "cell_type": "code",
   "execution_count": 100,
   "id": "4515959b-6ac4-48ef-80e7-60d05ef5ac4c",
   "metadata": {},
   "outputs": [
    {
     "name": "stdout",
     "output_type": "stream",
     "text": [
      "Loss: 0.8807\n",
      "Accuracy: 0.7480\n",
      "AuROC: 0.7646\n",
      "AuPRC: 0.3011\n"
     ]
    }
   ],
   "source": [
    "test_loss, test_accuracy, test_auroc, test_auprc, test_conf_matrix = test_model(trained_model, criterion, X_test, y_test)\n",
    "print(f'Loss: {test_loss:.4f}\\nAccuracy: {test_accuracy:.4f}\\nAuROC: {test_auroc:.4f}\\nAuPRC: {test_auprc:.4f}')"
   ]
  },
  {
   "cell_type": "raw",
   "id": "0332409b-8420-4164-8e3c-eee31ce71c3e",
   "metadata": {},
   "source": [
    "3500:\n",
    "Loss: 0.8911\n",
    "Accuracy: 0.7395\n",
    "AuROC: 0.7610\n",
    "AuPRC: 0.2955"
   ]
  },
  {
   "cell_type": "code",
   "execution_count": 50,
   "id": "9d7d467d-7e6a-46f7-88b6-503c89730765",
   "metadata": {},
   "outputs": [
    {
     "data": {
      "image/png": "[encoded data removed]",
      "text/plain": [
       "<Figure size 640x480 with 2 Axes>"
      ]
     },
     "metadata": {},
     "output_type": "display_data"
    }
   ],
   "source": [
    "ConfusionMatrixDisplay(test_conf_matrix).plot()\n",
    "plt.show()"
   ]
  },
  {
   "cell_type": "code",
   "execution_count": 162,
   "id": "4222385f-2dee-44ac-a9c5-bfa485bbb4f2",
   "metadata": {},
   "outputs": [],
   "source": [
    "torch.save(model.state_dict(), './trained_models/something')"
   ]
  },
  {
   "cell_type": "code",
   "execution_count": 88,
   "id": "7602b8c3-51f6-4e89-b48a-d4c28d0a5e4f",
   "metadata": {},
   "outputs": [
    {
     "data": {
      "text/plain": [
       "tensor([[[-0.0154, -0.3809, -0.6100,  2.8457],\n",
       "         [-0.6623,  0.3309, -0.6061, -0.8032],\n",
       "         [ 1.1064, -0.8233, -0.5121, -0.1345]],\n",
       "\n",
       "        [[ 0.7689,  0.5388, -0.4201, -0.4836],\n",
       "         [ 0.8126, -0.6876,  0.7701, -0.3811],\n",
       "         [ 0.7207,  0.6148, -1.2801, -0.1981]]])"
      ]
     },
     "execution_count": 88,
     "metadata": {},
     "output_type": "execute_result"
    }
   ],
   "source": [
    "t=torch.randn(2, 3, 4)\n",
    "t"
   ]
  },
  {
   "cell_type": "code",
   "execution_count": 90,
   "id": "bd93db4b-0780-4410-aba1-675ad3bd03d1",
   "metadata": {},
   "outputs": [
    {
     "data": {
      "text/plain": [
       "2"
      ]
     },
     "execution_count": 90,
     "metadata": {},
     "output_type": "execute_result"
    }
   ],
   "source": [
    "((t[:, -1, 0] + t[:, 0, -1]) / 2).shape[0]"
   ]
  },
  {
   "cell_type": "code",
   "execution_count": null,
   "id": "40737cf3-623e-4553-9b62-e8c804faf213",
   "metadata": {},
   "outputs": [],
   "source": []
  }
 ],
 "metadata": {
  "kernelspec": {
   "display_name": "Python 3 (ipykernel)",
   "language": "python",
   "name": "python3"
  },
  "language_info": {
   "codemirror_mode": {
    "name": "ipython",
    "version": 3
   },
   "file_extension": ".py",
   "mimetype": "text/x-python",
   "name": "python",
   "nbconvert_exporter": "python",
   "pygments_lexer": "ipython3",
   "version": "3.10.8"
  }
 },
 "nbformat": 4,
 "nbformat_minor": 5
}
