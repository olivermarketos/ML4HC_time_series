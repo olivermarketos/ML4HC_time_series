{
 "cells": [
  {
   "cell_type": "markdown",
   "id": "bacf0d60",
   "metadata": {},
   "source": [
    "# Generate embeddings from LLM"
   ]
  },
  {
   "cell_type": "code",
   "execution_count": null,
   "id": "73a2de72-135a-4420-81e5-0711872dc5e9",
   "metadata": {},
   "outputs": [],
   "source": [
    "# deepseek-r1:1.5b"
   ]
  },
  {
   "cell_type": "code",
   "execution_count": null,
   "id": "92f37a8e-5fca-472f-a54c-febcc4fcbdd5",
   "metadata": {},
   "outputs": [],
   "source": [
    "import csv\n",
    "from ollama import chat,embed\n",
    "from tqdm import tqdm\n",
    "import pandas as pd\n",
    "import numpy as np\n",
    "\n",
    "import requests\n",
    "\n"
   ]
  },
  {
   "cell_type": "code",
   "execution_count": null,
   "id": "fabf93dc-99b1-4b7b-80c9-ce29d1d171ed",
   "metadata": {},
   "outputs": [],
   "source": [
    "df_embeddings_2 = pd.DataFrame(columns=['RecordID'] + [str(i) for i in range(1, 3073)])\n",
    "df_embeddings_2"
   ]
  },
  {
   "cell_type": "code",
   "execution_count": null,
   "id": "5eebfb66-4022-48ac-a670-ff68bf5a81b1",
   "metadata": {},
   "outputs": [],
   "source": [
    "csv_file_path = 'data_4/summary_text_c.csv'\n",
    "saver_file_path= 'data_4/embedding_feat_for_c.csv'\n",
    "embeddings = {}\n",
    "\n"
   ]
  },
  {
   "cell_type": "code",
   "execution_count": null,
   "id": "d9efb705-fcef-4a8f-a8a6-1538547276ca",
   "metadata": {
    "scrolled": true
   },
   "outputs": [],
   "source": [
    "\n",
    "with open(csv_file_path, newline='') as csvfile:\n",
    "    reader = csv.DictReader(csvfile)\n",
    "    for i, row in enumerate(tqdm(reader, desc=\"Processing rows\")):\n",
    "        # if i == 3: \n",
    "        #     break\n",
    "        if i %50 ==0:\n",
    "            print(i)\n",
    "        record_id = row['RecordID_first']\n",
    "        patient_summary = row['summary']\n",
    "        # print(patient_summary)\n",
    "\n",
    "        # Get embedding from the LLM\n",
    "        embedding = embed(model='llama3.2:3b', input=patient_summary)['embeddings'] # the list to be store\n",
    "\n",
    "        # convert embedding to numpy array\n",
    "        embedding = np.array(embedding) # shape (1, 3072)\n",
    "        # remove first dimension\n",
    "        embedding = embedding[0]\n",
    "        # convert to list\n",
    "        embedding = embedding.tolist()\n",
    "        \n",
    "        # add embedding to dictionary\n",
    "        # embeddings[record_id] = embedding\n",
    "        # print(len(embedding))\n",
    "        # add embedding to row in df_embeddings_2\n",
    "        df_embeddings_2.loc[len(df_embeddings_2)] = [record_id] + embedding\n",
    "        \n",
    "  "
   ]
  },
  {
   "cell_type": "code",
   "execution_count": null,
   "id": "29c96271-b22e-4706-ada4-8ea4a202f094",
   "metadata": {},
   "outputs": [],
   "source": [
    "df_embeddings_2.to_csv(saver_file_path, index=False)\n"
   ]
  },
  {
   "cell_type": "code",
   "execution_count": null,
   "id": "8f8acc6b-4b2d-4a22-af31-8f956d6a40b1",
   "metadata": {},
   "outputs": [],
   "source": []
  }
 ],
 "metadata": {
  "kernelspec": {
   "display_name": "Python 3",
   "language": "python",
   "name": "python3"
  },
  "language_info": {
   "codemirror_mode": {
    "name": "ipython",
    "version": 3
   },
   "file_extension": ".py",
   "mimetype": "text/x-python",
   "name": "python",
   "nbconvert_exporter": "python",
   "pygments_lexer": "ipython3",
   "version": "3.11.3"
  }
 },
 "nbformat": 4,
 "nbformat_minor": 5
}
